{
  "cells": [
    {
      "cell_type": "markdown",
      "id": "e2dae6e9",
      "metadata": {
        "id": "e2dae6e9"
      },
      "source": [
        "# Movie Review Sentiment Classification using RNNs\n",
        "\n",
        "\n",
        "For the baseline model, we will build an RNN to classify positive vs negative movie reviews.\n"
      ]
    },
    {
      "cell_type": "code",
      "source": [
        "!pip install datasets\n",
        "!pip install kaggle\n",
        "!pip install -U transformers\n",
        "!pip install -U huggingface_hub"
      ],
      "metadata": {
        "colab": {
          "base_uri": "https://localhost:8080/"
        },
        "id": "NdPNy2YlIo86",
        "outputId": "b7dd0380-4fb1-4efc-bff5-af922fa78944"
      },
      "id": "NdPNy2YlIo86",
      "execution_count": null,
      "outputs": [
        {
          "output_type": "stream",
          "name": "stdout",
          "text": [
            "Requirement already satisfied: datasets in /usr/local/lib/python3.10/dist-packages (2.19.0)\n",
            "Requirement already satisfied: filelock in /usr/local/lib/python3.10/dist-packages (from datasets) (3.13.4)\n",
            "Requirement already satisfied: numpy>=1.17 in /usr/local/lib/python3.10/dist-packages (from datasets) (1.25.2)\n",
            "Requirement already satisfied: pyarrow>=12.0.0 in /usr/local/lib/python3.10/dist-packages (from datasets) (14.0.2)\n",
            "Requirement already satisfied: pyarrow-hotfix in /usr/local/lib/python3.10/dist-packages (from datasets) (0.6)\n",
            "Requirement already satisfied: dill<0.3.9,>=0.3.0 in /usr/local/lib/python3.10/dist-packages (from datasets) (0.3.8)\n",
            "Requirement already satisfied: pandas in /usr/local/lib/python3.10/dist-packages (from datasets) (2.0.3)\n",
            "Requirement already satisfied: requests>=2.19.0 in /usr/local/lib/python3.10/dist-packages (from datasets) (2.31.0)\n",
            "Requirement already satisfied: tqdm>=4.62.1 in /usr/local/lib/python3.10/dist-packages (from datasets) (4.66.2)\n",
            "Requirement already satisfied: xxhash in /usr/local/lib/python3.10/dist-packages (from datasets) (3.4.1)\n",
            "Requirement already satisfied: multiprocess in /usr/local/lib/python3.10/dist-packages (from datasets) (0.70.16)\n",
            "Requirement already satisfied: fsspec[http]<=2024.3.1,>=2023.1.0 in /usr/local/lib/python3.10/dist-packages (from datasets) (2023.6.0)\n",
            "Requirement already satisfied: aiohttp in /usr/local/lib/python3.10/dist-packages (from datasets) (3.9.5)\n",
            "Requirement already satisfied: huggingface-hub>=0.21.2 in /usr/local/lib/python3.10/dist-packages (from datasets) (0.22.2)\n",
            "Requirement already satisfied: packaging in /usr/local/lib/python3.10/dist-packages (from datasets) (24.0)\n",
            "Requirement already satisfied: pyyaml>=5.1 in /usr/local/lib/python3.10/dist-packages (from datasets) (6.0.1)\n",
            "Requirement already satisfied: aiosignal>=1.1.2 in /usr/local/lib/python3.10/dist-packages (from aiohttp->datasets) (1.3.1)\n",
            "Requirement already satisfied: attrs>=17.3.0 in /usr/local/lib/python3.10/dist-packages (from aiohttp->datasets) (23.2.0)\n",
            "Requirement already satisfied: frozenlist>=1.1.1 in /usr/local/lib/python3.10/dist-packages (from aiohttp->datasets) (1.4.1)\n",
            "Requirement already satisfied: multidict<7.0,>=4.5 in /usr/local/lib/python3.10/dist-packages (from aiohttp->datasets) (6.0.5)\n",
            "Requirement already satisfied: yarl<2.0,>=1.0 in /usr/local/lib/python3.10/dist-packages (from aiohttp->datasets) (1.9.4)\n",
            "Requirement already satisfied: async-timeout<5.0,>=4.0 in /usr/local/lib/python3.10/dist-packages (from aiohttp->datasets) (4.0.3)\n",
            "Requirement already satisfied: typing-extensions>=3.7.4.3 in /usr/local/lib/python3.10/dist-packages (from huggingface-hub>=0.21.2->datasets) (4.11.0)\n",
            "Requirement already satisfied: charset-normalizer<4,>=2 in /usr/local/lib/python3.10/dist-packages (from requests>=2.19.0->datasets) (3.3.2)\n",
            "Requirement already satisfied: idna<4,>=2.5 in /usr/local/lib/python3.10/dist-packages (from requests>=2.19.0->datasets) (3.7)\n",
            "Requirement already satisfied: urllib3<3,>=1.21.1 in /usr/local/lib/python3.10/dist-packages (from requests>=2.19.0->datasets) (2.0.7)\n",
            "Requirement already satisfied: certifi>=2017.4.17 in /usr/local/lib/python3.10/dist-packages (from requests>=2.19.0->datasets) (2024.2.2)\n",
            "Requirement already satisfied: python-dateutil>=2.8.2 in /usr/local/lib/python3.10/dist-packages (from pandas->datasets) (2.8.2)\n",
            "Requirement already satisfied: pytz>=2020.1 in /usr/local/lib/python3.10/dist-packages (from pandas->datasets) (2023.4)\n",
            "Requirement already satisfied: tzdata>=2022.1 in /usr/local/lib/python3.10/dist-packages (from pandas->datasets) (2024.1)\n",
            "Requirement already satisfied: six>=1.5 in /usr/local/lib/python3.10/dist-packages (from python-dateutil>=2.8.2->pandas->datasets) (1.16.0)\n",
            "Requirement already satisfied: kaggle in /usr/local/lib/python3.10/dist-packages (1.5.16)\n",
            "Requirement already satisfied: six>=1.10 in /usr/local/lib/python3.10/dist-packages (from kaggle) (1.16.0)\n",
            "Requirement already satisfied: certifi in /usr/local/lib/python3.10/dist-packages (from kaggle) (2024.2.2)\n",
            "Requirement already satisfied: python-dateutil in /usr/local/lib/python3.10/dist-packages (from kaggle) (2.8.2)\n",
            "Requirement already satisfied: requests in /usr/local/lib/python3.10/dist-packages (from kaggle) (2.31.0)\n",
            "Requirement already satisfied: tqdm in /usr/local/lib/python3.10/dist-packages (from kaggle) (4.66.2)\n",
            "Requirement already satisfied: python-slugify in /usr/local/lib/python3.10/dist-packages (from kaggle) (8.0.4)\n",
            "Requirement already satisfied: urllib3 in /usr/local/lib/python3.10/dist-packages (from kaggle) (2.0.7)\n",
            "Requirement already satisfied: bleach in /usr/local/lib/python3.10/dist-packages (from kaggle) (6.1.0)\n",
            "Requirement already satisfied: webencodings in /usr/local/lib/python3.10/dist-packages (from bleach->kaggle) (0.5.1)\n",
            "Requirement already satisfied: text-unidecode>=1.3 in /usr/local/lib/python3.10/dist-packages (from python-slugify->kaggle) (1.3)\n",
            "Requirement already satisfied: charset-normalizer<4,>=2 in /usr/local/lib/python3.10/dist-packages (from requests->kaggle) (3.3.2)\n",
            "Requirement already satisfied: idna<4,>=2.5 in /usr/local/lib/python3.10/dist-packages (from requests->kaggle) (3.7)\n",
            "Requirement already satisfied: transformers in /usr/local/lib/python3.10/dist-packages (4.40.0)\n",
            "Requirement already satisfied: filelock in /usr/local/lib/python3.10/dist-packages (from transformers) (3.13.4)\n",
            "Requirement already satisfied: huggingface-hub<1.0,>=0.19.3 in /usr/local/lib/python3.10/dist-packages (from transformers) (0.22.2)\n",
            "Requirement already satisfied: numpy>=1.17 in /usr/local/lib/python3.10/dist-packages (from transformers) (1.25.2)\n",
            "Requirement already satisfied: packaging>=20.0 in /usr/local/lib/python3.10/dist-packages (from transformers) (24.0)\n",
            "Requirement already satisfied: pyyaml>=5.1 in /usr/local/lib/python3.10/dist-packages (from transformers) (6.0.1)\n",
            "Requirement already satisfied: regex!=2019.12.17 in /usr/local/lib/python3.10/dist-packages (from transformers) (2023.12.25)\n",
            "Requirement already satisfied: requests in /usr/local/lib/python3.10/dist-packages (from transformers) (2.31.0)\n",
            "Requirement already satisfied: tokenizers<0.20,>=0.19 in /usr/local/lib/python3.10/dist-packages (from transformers) (0.19.1)\n",
            "Requirement already satisfied: safetensors>=0.4.1 in /usr/local/lib/python3.10/dist-packages (from transformers) (0.4.3)\n",
            "Requirement already satisfied: tqdm>=4.27 in /usr/local/lib/python3.10/dist-packages (from transformers) (4.66.2)\n",
            "Requirement already satisfied: fsspec>=2023.5.0 in /usr/local/lib/python3.10/dist-packages (from huggingface-hub<1.0,>=0.19.3->transformers) (2023.6.0)\n",
            "Requirement already satisfied: typing-extensions>=3.7.4.3 in /usr/local/lib/python3.10/dist-packages (from huggingface-hub<1.0,>=0.19.3->transformers) (4.11.0)\n",
            "Requirement already satisfied: charset-normalizer<4,>=2 in /usr/local/lib/python3.10/dist-packages (from requests->transformers) (3.3.2)\n",
            "Requirement already satisfied: idna<4,>=2.5 in /usr/local/lib/python3.10/dist-packages (from requests->transformers) (3.7)\n",
            "Requirement already satisfied: urllib3<3,>=1.21.1 in /usr/local/lib/python3.10/dist-packages (from requests->transformers) (2.0.7)\n",
            "Requirement already satisfied: certifi>=2017.4.17 in /usr/local/lib/python3.10/dist-packages (from requests->transformers) (2024.2.2)\n",
            "Requirement already satisfied: huggingface_hub in /usr/local/lib/python3.10/dist-packages (0.22.2)\n",
            "Requirement already satisfied: filelock in /usr/local/lib/python3.10/dist-packages (from huggingface_hub) (3.13.4)\n",
            "Requirement already satisfied: fsspec>=2023.5.0 in /usr/local/lib/python3.10/dist-packages (from huggingface_hub) (2023.6.0)\n",
            "Requirement already satisfied: packaging>=20.9 in /usr/local/lib/python3.10/dist-packages (from huggingface_hub) (24.0)\n",
            "Requirement already satisfied: pyyaml>=5.1 in /usr/local/lib/python3.10/dist-packages (from huggingface_hub) (6.0.1)\n",
            "Requirement already satisfied: requests in /usr/local/lib/python3.10/dist-packages (from huggingface_hub) (2.31.0)\n",
            "Requirement already satisfied: tqdm>=4.42.1 in /usr/local/lib/python3.10/dist-packages (from huggingface_hub) (4.66.2)\n",
            "Requirement already satisfied: typing-extensions>=3.7.4.3 in /usr/local/lib/python3.10/dist-packages (from huggingface_hub) (4.11.0)\n",
            "Requirement already satisfied: charset-normalizer<4,>=2 in /usr/local/lib/python3.10/dist-packages (from requests->huggingface_hub) (3.3.2)\n",
            "Requirement already satisfied: idna<4,>=2.5 in /usr/local/lib/python3.10/dist-packages (from requests->huggingface_hub) (3.7)\n",
            "Requirement already satisfied: urllib3<3,>=1.21.1 in /usr/local/lib/python3.10/dist-packages (from requests->huggingface_hub) (2.0.7)\n",
            "Requirement already satisfied: certifi>=2017.4.17 in /usr/local/lib/python3.10/dist-packages (from requests->huggingface_hub) (2024.2.2)\n"
          ]
        }
      ]
    },
    {
      "cell_type": "code",
      "source": [
        "from google.colab import drive\n",
        "drive.mount('/content/drive')"
      ],
      "metadata": {
        "colab": {
          "base_uri": "https://localhost:8080/"
        },
        "id": "8RTkqMyNQ4fT",
        "outputId": "1ce6fafd-eb03-455c-ce8a-29eef3d20fed"
      },
      "id": "8RTkqMyNQ4fT",
      "execution_count": null,
      "outputs": [
        {
          "output_type": "stream",
          "name": "stdout",
          "text": [
            "Mounted at /content/drive\n"
          ]
        }
      ]
    },
    {
      "cell_type": "markdown",
      "source": [
        "## Part 1. Data\n",
        "\n",
        "Use Kaggle CLI to import datasets"
      ],
      "metadata": {
        "id": "QOU6qt5nWY5-"
      },
      "id": "QOU6qt5nWY5-"
    },
    {
      "cell_type": "code",
      "source": [
        "!mkdir -p ~/.kaggle\n",
        "!cp /content/drive/MyDrive/kaggle.json ~/.kaggle/\n",
        "!chmod 600 ~/.kaggle/kaggle.json\n",
        "!kaggle datasets list"
      ],
      "metadata": {
        "colab": {
          "base_uri": "https://localhost:8080/"
        },
        "id": "fjD7am0NPKbo",
        "outputId": "6b28e4bb-c42f-4b47-97c1-4b27318293ab"
      },
      "id": "fjD7am0NPKbo",
      "execution_count": null,
      "outputs": [
        {
          "output_type": "stream",
          "name": "stdout",
          "text": [
            "Warning: Looks like you're using an outdated API Version, please consider updating (server 1.6.12 / client 1.5.16)\n",
            "ref                                                   title                                                size  lastUpdated          downloadCount  voteCount  usabilityRating  \n",
            "----------------------------------------------------  --------------------------------------------------  -----  -------------------  -------------  ---------  ---------------  \n",
            "rahulvyasm/netflix-movies-and-tv-shows                Netflix Movies and TV Shows                           1MB  2024-04-10 09:48:38           4007         78  1.0              \n",
            "mexwell/heart-disease-dataset                         🫀 Heart Disease Dataset                             399KB  2024-04-08 09:43:49           2175         39  1.0              \n",
            "asaniczka/university-employee-salaries-2011-present   University Employee Salaries (2011 - Present)        17MB  2024-04-07 10:11:15           1720         48  1.0              \n",
            "fatemehmehrparvar/obesity-levels                      Obesity Levels                                       58KB  2024-04-07 16:28:30           3402         57  0.88235295       \n",
            "sakshisatre/social-advertisement-dataset              Social Media Consumer Buying Behavior Dataset         1KB  2024-04-14 08:47:43           1023         30  1.0              \n",
            "prishasawhney/mushroom-dataset                        Mushroom Dataset (Binary Classification)            602KB  2024-04-18 19:56:44            612         47  1.0              \n",
            "akankshaaa013/top-grossing-movies-dataset             Top Grossing Movies Dataset                          33KB  2024-04-08 08:29:47           1684         36  1.0              \n",
            "sahilnbajaj/cancer-classification                     Cancer classification                                52KB  2024-04-11 04:58:53            531         23  1.0              \n",
            "sunnykakar/spotify-charts-all-audio-data              Spotify Charts (All Audio Data)                       3GB  2024-04-15 20:15:15            950         33  1.0              \n",
            "arnavsmayan/amazon-prime-userbase-dataset             Amazon Prime Userbase Dataset                       104KB  2024-04-15 06:25:10           1241         28  1.0              \n",
            "startalks/pii-models                                  pii-models                                            1GB  2024-03-21 21:23:40            186         24  1.0              \n",
            "varunraskar/cancer-regression                         Cancer Regression                                   339KB  2024-04-14 12:58:28            722         22  0.9411765        \n",
            "prishasawhney/good-reads-top-1000-books               Good Reads Dataset (Top 1000 Books)                  26KB  2024-04-17 20:02:53            319         44  1.0              \n",
            "sukhmandeepsinghbrar/water-quality                    Water Quality                                        49MB  2024-04-19 07:53:13            402         33  1.0              \n",
            "bhavikjikadara/student-study-performance              Student Study Performance                             9KB  2024-03-07 06:14:09          14684        178  1.0              \n",
            "sukhmandeepsinghbrar/most-subscribed-youtube-channel  Most Subscribed YouTube Channel                       1KB  2024-04-10 20:33:05           1571         46  1.0              \n",
            "sahirmaharajj/employee-salaries-analysis              Employee Salaries Analysis                          101KB  2024-03-31 16:32:47           2440         59  1.0              \n",
            "nayanack/netflix                                      Netflix Chronicles: Exploring Movies and TV Shows     1MB  2024-04-16 07:36:08           1133         24  0.88235295       \n",
            "vladimirosmakris/house-pricing-index-united-states    house_pricing_index_united_states                     9MB  2024-04-14 18:19:44            446         24  0.9411765        \n",
            "ikjotsingh221/rural-credit-dataset-cleaned            Rural Credit Dataset Cleaned                        232KB  2024-04-17 22:06:00            282         54  1.0              \n"
          ]
        }
      ]
    },
    {
      "cell_type": "markdown",
      "source": [
        "Download the datasets and load into notebook"
      ],
      "metadata": {
        "id": "vu3q8l_5NDRu"
      },
      "id": "vu3q8l_5NDRu"
    },
    {
      "cell_type": "code",
      "source": [
        "!kaggle datasets download -d djilax/allocine-french-movie-reviews\n",
        "!kaggle datasets download -d lakshmi25npathi/imdb-dataset-of-50k-movie-reviews"
      ],
      "metadata": {
        "colab": {
          "base_uri": "https://localhost:8080/"
        },
        "id": "fH9BOTs1NHJT",
        "outputId": "c1e8dc54-a343-4b79-8e84-462ca23e8e69"
      },
      "id": "fH9BOTs1NHJT",
      "execution_count": null,
      "outputs": [
        {
          "output_type": "stream",
          "name": "stdout",
          "text": [
            "Downloading allocine-french-movie-reviews.zip to /content\n",
            " 99% 46.0M/46.2M [00:00<00:00, 116MB/s] \n",
            "100% 46.2M/46.2M [00:00<00:00, 101MB/s]\n",
            "Downloading imdb-dataset-of-50k-movie-reviews.zip to /content\n",
            " 35% 9.00M/25.7M [00:00<00:00, 80.0MB/s]\n",
            "100% 25.7M/25.7M [00:00<00:00, 133MB/s] \n"
          ]
        }
      ]
    },
    {
      "cell_type": "code",
      "source": [
        "!makdir project\n",
        "!unzip /content/allocine-french-movie-reviews.zip -d project\n",
        "!unzip /content/imdb-dataset-of-50k-movie-reviews.zip -d project"
      ],
      "metadata": {
        "colab": {
          "base_uri": "https://localhost:8080/"
        },
        "id": "alYY9etsPf7p",
        "outputId": "20b4239e-3657-4ea8-a254-ee4de62e6a6b"
      },
      "id": "alYY9etsPf7p",
      "execution_count": null,
      "outputs": [
        {
          "output_type": "stream",
          "name": "stdout",
          "text": [
            "/bin/bash: line 1: makdir: command not found\n",
            "Archive:  /content/allocine-french-movie-reviews.zip\n",
            "  inflating: project/test.csv        \n",
            "  inflating: project/train.csv       \n",
            "  inflating: project/valid.csv       \n",
            "Archive:  /content/imdb-dataset-of-50k-movie-reviews.zip\n",
            "  inflating: project/IMDB Dataset.csv  \n"
          ]
        }
      ]
    },
    {
      "cell_type": "code",
      "source": [
        "import transformers\n",
        "from datasets import load_metric, load_dataset, DatasetDict, concatenate_datasets\n",
        "import random, os, json\n",
        "from transformers import AutoTokenizer, Seq2SeqTrainingArguments, Seq2SeqTrainer, DataCollatorWithPadding, AutoModelForSequenceClassification\n",
        "import torch\n",
        "import numpy as np\n",
        "import nltk\n",
        "nltk.download('punkt')"
      ],
      "metadata": {
        "colab": {
          "base_uri": "https://localhost:8080/"
        },
        "id": "r4UGQ2TeRjwU",
        "outputId": "0d8b9753-62de-44cb-e273-875857a740fc"
      },
      "id": "r4UGQ2TeRjwU",
      "execution_count": null,
      "outputs": [
        {
          "output_type": "stream",
          "name": "stderr",
          "text": [
            "[nltk_data] Downloading package punkt to /root/nltk_data...\n",
            "[nltk_data]   Unzipping tokenizers/punkt.zip.\n"
          ]
        },
        {
          "output_type": "execute_result",
          "data": {
            "text/plain": [
              "True"
            ]
          },
          "metadata": {},
          "execution_count": 6
        }
      ]
    },
    {
      "cell_type": "code",
      "source": [
        "# Load two datasets\n",
        "eng_dataset = load_dataset(\"csv\", data_files=\"./project/IMDB Dataset.csv\")\n",
        "fre_dataset = load_dataset(\"csv\", data_files=\"./project/train.csv\")"
      ],
      "metadata": {
        "colab": {
          "base_uri": "https://localhost:8080/",
          "height": 81,
          "referenced_widgets": [
            "b55b65f351ed4861bf0a708910c6d0ce",
            "62730bf73a21484fa18b78f89cc022eb",
            "cc48da2a33904c9a97ae4eb2adfa5b9e",
            "9599fa26e71742a488bd06f285e4227c",
            "2118a436075c43f18f9124c26437cb93",
            "5c1b41cc549c4605aafa91ac24331b53",
            "69a26bc093024d08bc11bacaba169db3",
            "c1d1f485f0034e84a776faae5df4cc8d",
            "9f966ecbadf2496485946bf9251b8051",
            "f66d00dd8d9742ea9fd5399734afab3d",
            "554fcc9c44694356a430b16f316dd4f7",
            "1791f80f757545b99ce02a19aee04868",
            "801af7fc2f5147288e0d52898ad79d87",
            "560694da63b2449397b04b1684c341e1",
            "695884813a764028ac4617b7f95ecff1",
            "e88fd09333a94e93b6b798b66dedaed5",
            "f3675a79559348d58e36a86923c9f764",
            "818cc83d98b148aeb219173aaf56ec47",
            "d55913d14d49425dadeb1d391dd4147c",
            "f97b974fa684498a8688a436ac6dceec",
            "30afd27158c34dc08752125061a8549b",
            "41c27334d1214900b35702e42e8135c4"
          ]
        },
        "id": "K7O2-WLcNrMV",
        "outputId": "402ede9b-e769-4a0d-d7f3-6ea255593936"
      },
      "id": "K7O2-WLcNrMV",
      "execution_count": null,
      "outputs": [
        {
          "output_type": "display_data",
          "data": {
            "text/plain": [
              "Generating train split: 0 examples [00:00, ? examples/s]"
            ],
            "application/vnd.jupyter.widget-view+json": {
              "version_major": 2,
              "version_minor": 0,
              "model_id": "b55b65f351ed4861bf0a708910c6d0ce"
            }
          },
          "metadata": {}
        },
        {
          "output_type": "display_data",
          "data": {
            "text/plain": [
              "Generating train split: 0 examples [00:00, ? examples/s]"
            ],
            "application/vnd.jupyter.widget-view+json": {
              "version_major": 2,
              "version_minor": 0,
              "model_id": "1791f80f757545b99ce02a19aee04868"
            }
          },
          "metadata": {}
        }
      ]
    },
    {
      "cell_type": "markdown",
      "source": [
        "Random sampling `count_per_lang` number data"
      ],
      "metadata": {
        "id": "jV_EeKZ5eIxU"
      },
      "id": "jV_EeKZ5eIxU"
    },
    {
      "cell_type": "code",
      "execution_count": null,
      "id": "66f4afa9",
      "metadata": {
        "colab": {
          "base_uri": "https://localhost:8080/"
        },
        "id": "66f4afa9",
        "outputId": "c9f93f4f-5ac6-4399-cf01-014cfe5a91ec"
      },
      "outputs": [
        {
          "output_type": "stream",
          "name": "stdout",
          "text": [
            "After sampling: ENG Dataset({\n",
            "    features: ['review', 'sentiment'],\n",
            "    num_rows: 5000\n",
            "}) FRE Dataset({\n",
            "    features: ['Unnamed: 0', 'film-url', 'review', 'polarity'],\n",
            "    num_rows: 5000\n",
            "})\n",
            "\n",
            "\n"
          ]
        }
      ],
      "source": [
        "count_per_lang = 5000\n",
        "\n",
        "eng_ind = sorted(random.sample(range(0, len(eng_dataset['train'])), count_per_lang))\n",
        "fre_ind = sorted(random.sample(range(0, len(fre_dataset['train'])), count_per_lang))\n",
        "eng_data = eng_dataset['train'].select(eng_ind)\n",
        "fre_data = fre_dataset['train'].select(fre_ind)\n",
        "print(f\"After sampling: ENG {eng_data} FRE {fre_data}\\n\\n\")"
      ]
    },
    {
      "cell_type": "code",
      "source": [
        "def label_to_number(example):\n",
        "    ''' Convert 'positive' to 1, 'negative' to 0. '''\n",
        "    example['sentiment'] = 1 if example['sentiment'] == 'positive' else 0\n",
        "    return example\n",
        "\n",
        "# Apply the conversion to each example in the dataset\n",
        "eng_data = eng_data.map(label_to_number)\n",
        "\n",
        "# Rename dataset column and only keep useful columns\n",
        "fre_data = fre_data.rename_column('polarity', 'sentiment')\n",
        "fre_data = fre_data.select_columns(['review', 'sentiment'])\n",
        "\n",
        "print(f\"After renaming: ENG {eng_data} FRE {fre_data}\\n\\n\")"
      ],
      "metadata": {
        "colab": {
          "base_uri": "https://localhost:8080/",
          "height": 205,
          "referenced_widgets": [
            "76f7f97e318442f3a87d6a18250f695f",
            "22a64d92ca034586ac3cc50705af8a79",
            "e44f8d5b246949fe974cd6e116c42503",
            "aca639e6368642a3897bff090360d853",
            "1d0df56e5bab457983af41cfb4fb772b",
            "1fb9170c77844ed685c8f6259f542781",
            "cb3c282b2ffe450cb5f6a6b948021b08",
            "1f1a36b633c2439e9587a4657959c852",
            "e57f40d6eadc44f6bff58c4c946965f8",
            "16976a3941544cc8974bdf8bad7d9c3b",
            "5225ecc879704ab48ae3173aaf9c7afe"
          ]
        },
        "id": "zjJp6sn8epjM",
        "outputId": "6eb23d05-9942-48af-cd65-125a9f0ce974"
      },
      "id": "zjJp6sn8epjM",
      "execution_count": null,
      "outputs": [
        {
          "output_type": "display_data",
          "data": {
            "text/plain": [
              "Map:   0%|          | 0/5000 [00:00<?, ? examples/s]"
            ],
            "application/vnd.jupyter.widget-view+json": {
              "version_major": 2,
              "version_minor": 0,
              "model_id": "76f7f97e318442f3a87d6a18250f695f"
            }
          },
          "metadata": {}
        },
        {
          "output_type": "stream",
          "name": "stdout",
          "text": [
            "After renaming: ENG Dataset({\n",
            "    features: ['review', 'sentiment'],\n",
            "    num_rows: 5000\n",
            "}) FRE Dataset({\n",
            "    features: ['review', 'sentiment'],\n",
            "    num_rows: 5000\n",
            "})\n",
            "\n",
            "\n"
          ]
        }
      ]
    },
    {
      "cell_type": "markdown",
      "id": "c0447dd5",
      "metadata": {
        "id": "c0447dd5"
      },
      "source": [
        "Number of positive and negative reviews in the dataset"
      ]
    },
    {
      "cell_type": "code",
      "execution_count": null,
      "id": "cd10bdc3",
      "metadata": {
        "colab": {
          "base_uri": "https://localhost:8080/"
        },
        "id": "cd10bdc3",
        "outputId": "e8838d7c-9e23-4f6a-e7a9-b07ed83d7d43"
      },
      "outputs": [
        {
          "output_type": "stream",
          "name": "stdout",
          "text": [
            "Counter({1: 2535, 0: 2465})\n",
            "Counter({0: 2593, 1: 2407})\n"
          ]
        }
      ],
      "source": [
        "from collections import Counter\n",
        "print(Counter(x for x in eng_data['sentiment']))\n",
        "print(Counter(x for x in fre_data['sentiment']))"
      ]
    },
    {
      "cell_type": "markdown",
      "id": "59f3d6b4",
      "metadata": {
        "id": "59f3d6b4"
      },
      "source": [
        "Split dataset into train, validation, test following 8:1:1"
      ]
    },
    {
      "cell_type": "code",
      "execution_count": null,
      "id": "8e3eff79",
      "metadata": {
        "colab": {
          "base_uri": "https://localhost:8080/"
        },
        "id": "8e3eff79",
        "outputId": "80b1d924-9d5f-43c1-8f7f-722dff261e3b"
      },
      "outputs": [
        {
          "output_type": "stream",
          "name": "stdout",
          "text": [
            "DatasetDict({\n",
            "    train: Dataset({\n",
            "        features: ['review', 'sentiment'],\n",
            "        num_rows: 4000\n",
            "    })\n",
            "    validation: Dataset({\n",
            "        features: ['review', 'sentiment'],\n",
            "        num_rows: 500\n",
            "    })\n",
            "    test: Dataset({\n",
            "        features: ['review', 'sentiment'],\n",
            "        num_rows: 500\n",
            "    })\n",
            "}) DatasetDict({\n",
            "    train: Dataset({\n",
            "        features: ['review', 'sentiment'],\n",
            "        num_rows: 4000\n",
            "    })\n",
            "    validation: Dataset({\n",
            "        features: ['review', 'sentiment'],\n",
            "        num_rows: 500\n",
            "    })\n",
            "    test: Dataset({\n",
            "        features: ['review', 'sentiment'],\n",
            "        num_rows: 500\n",
            "    })\n",
            "})\n"
          ]
        }
      ],
      "source": [
        "# Split off the test + validation dataset (20%)\n",
        "test_val_split_eng = eng_data.train_test_split(test_size=0.2)\n",
        "# Split the test + validation data equally into test and validation datasets\n",
        "final_splits_eng = test_val_split_eng['test'].train_test_split(test_size=0.5)\n",
        "# Gather splits into a single DatasetDict\n",
        "eng_data = DatasetDict({\n",
        "    'train': test_val_split_eng['train'],  # 80% of the original dataset\n",
        "    'validation': final_splits_eng['train'],  # 10% of the original dataset\n",
        "    'test': final_splits_eng['test']  # 10% of the original dataset\n",
        "})\n",
        "# Implement same way on French dataset\n",
        "test_val_split_fre = fre_data.train_test_split(test_size=0.2)\n",
        "final_splits_fre = test_val_split_fre['test'].train_test_split(test_size=0.5)\n",
        "fre_data = DatasetDict({\n",
        "    'train': test_val_split_fre['train'],\n",
        "    'validation': final_splits_fre['train'],\n",
        "    'test': final_splits_fre['test']\n",
        "})\n",
        "print(eng_data, fre_data)"
      ]
    },
    {
      "cell_type": "markdown",
      "source": [
        "Display data samples"
      ],
      "metadata": {
        "id": "YQgig6hCf280"
      },
      "id": "YQgig6hCf280"
    },
    {
      "cell_type": "code",
      "source": [
        "print(eng_data['train'][4])\n",
        "print(fre_data['train'][0])"
      ],
      "metadata": {
        "colab": {
          "base_uri": "https://localhost:8080/"
        },
        "id": "OEUUMG5Yf4sN",
        "outputId": "1e8f7f76-bbe9-4554-a439-e1c2ef11fd6c"
      },
      "id": "OEUUMG5Yf4sN",
      "execution_count": null,
      "outputs": [
        {
          "output_type": "stream",
          "name": "stdout",
          "text": [
            "{'review': 'The film has no connection with the real life in Bosnia in those days. Should be more realistic and shows the viewer real traumas that were happening to common people during the war. Please see some films of Yugoslav authors (Emir Kusturica, Ljubisa Samardzic,...e.g. Bure baruta( A barrel of powder), Tito i ja (Tito and me), Lepa sela lepo gore (Beautiful Villages burn Beautiful), etc... Just this is the real way to know about so called Bosnian problem. Hollywood is definitive not th right address to make films about the Balcan peninsula. Maybe Vietnam, WW II,... but not of the Slavs living in former Yugoslavia.', 'sentiment': 0}\n",
            "{'review': 'Un beau film, tout en nuances, bonne idée de mise en scène.', 'sentiment': 1}\n"
          ]
        }
      ]
    },
    {
      "cell_type": "code",
      "execution_count": null,
      "id": "2c685c68",
      "metadata": {
        "id": "2c685c68",
        "colab": {
          "base_uri": "https://localhost:8080/"
        },
        "outputId": "27bb6b76-6841-4da2-863e-fb40261d0c7c"
      },
      "outputs": [
        {
          "output_type": "stream",
          "name": "stdout",
          "text": [
            "GPU is not available. Using CPU instead.\n"
          ]
        }
      ],
      "source": [
        "### Check if CUDA is available\n",
        "global device\n",
        "if torch.cuda.is_available():\n",
        "    device = torch.device(\"cuda\")\n",
        "    print(\"Using GPU:\", torch.cuda.get_device_name(0))\n",
        "else:\n",
        "    device = torch.device(\"cpu\")\n",
        "    print(\"GPU is not available. Using CPU instead.\")"
      ]
    },
    {
      "cell_type": "markdown",
      "source": [
        "Convert reviews into sequences of numbers."
      ],
      "metadata": {
        "id": "YouPQr-NYIFw"
      },
      "id": "YouPQr-NYIFw"
    },
    {
      "cell_type": "code",
      "execution_count": null,
      "id": "8b500aac",
      "metadata": {
        "id": "8b500aac",
        "colab": {
          "base_uri": "https://localhost:8080/",
          "height": 411,
          "referenced_widgets": [
            "0ede303c59694ac3ab0ca81e35105d33",
            "b9171c3226f8408cba7ec13d6d57c352",
            "8256501dc29e4147814afcff2c95b65c",
            "4bb721b830034558890d7be705948716",
            "0198d1976ae84edea821378205e89701",
            "283c948f1f7d4e618e13905998986242",
            "515838edc44f42e4b0011750f5067042",
            "cd7a32c0d488442799f38fcdcf6e51b0",
            "3a9ab313c52f48e896836a362738f095",
            "25fb34ba1af04caf97562639c19e855f",
            "a38c3fb6cd964316b2727d70bf60bab5",
            "41314325b149420d9b65bbed12bb6dee",
            "e3fb4a0d44cf461da7a8d8d6b94f829b",
            "64adc17691104cb2b790432389ead4a5",
            "8fd1ead75336454d8530204c2f8c5285",
            "b8432fbd469f4314916767bc6d521621",
            "5f219f1be0b84f0781eeda1be02d6a92",
            "cae80933a9d9405f98267d134a576429",
            "f008ccb138d04c239c9d16c3fffb06ee",
            "febcfa770b424080bfee4bb5b4cd4106",
            "ca8293e895ea431d8d7ed87cd4362ba5",
            "5041e8b693b04be7be2cf878eac0e7d4",
            "9137b5f44bf84bf094481cc22ab2b4ea",
            "68a1dbae650b4369bbbb819ba43f6245",
            "87b6d1d2c5e04065a8c21f0b4e343c25",
            "40cc4b561a56414b89ff4d571aab1981",
            "4dcf927e68ce48daa6e0665cf213b6f0",
            "ec766ee0329f455dbc2d45d89faaa207",
            "71bd0c00a7c0469db171a339f235faa0",
            "362ebd29dcff4c999cbdeb10de7d9f7f",
            "2ecf08d8608d4247bef05189d9a72cdb",
            "c210358c47054a578220a696133ec411",
            "0479237c719243d58ebb022d8636a282"
          ]
        },
        "outputId": "df667b2b-8224-4e89-9ff8-64f495447411"
      },
      "outputs": [
        {
          "output_type": "display_data",
          "data": {
            "text/plain": [
              "Map:   0%|          | 0/4000 [00:00<?, ? examples/s]"
            ],
            "application/vnd.jupyter.widget-view+json": {
              "version_major": 2,
              "version_minor": 0,
              "model_id": "0ede303c59694ac3ab0ca81e35105d33"
            }
          },
          "metadata": {}
        },
        {
          "output_type": "display_data",
          "data": {
            "text/plain": [
              "Map:   0%|          | 0/500 [00:00<?, ? examples/s]"
            ],
            "application/vnd.jupyter.widget-view+json": {
              "version_major": 2,
              "version_minor": 0,
              "model_id": "41314325b149420d9b65bbed12bb6dee"
            }
          },
          "metadata": {}
        },
        {
          "output_type": "display_data",
          "data": {
            "text/plain": [
              "Map:   0%|          | 0/500 [00:00<?, ? examples/s]"
            ],
            "application/vnd.jupyter.widget-view+json": {
              "version_major": 2,
              "version_minor": 0,
              "model_id": "9137b5f44bf84bf094481cc22ab2b4ea"
            }
          },
          "metadata": {}
        },
        {
          "output_type": "stream",
          "name": "stdout",
          "text": [
            "DatasetDict({\n",
            "    train: Dataset({\n",
            "        features: ['review', 'sentiment', 'tokenized_ids'],\n",
            "        num_rows: 4000\n",
            "    })\n",
            "    validation: Dataset({\n",
            "        features: ['review', 'sentiment', 'tokenized_ids'],\n",
            "        num_rows: 500\n",
            "    })\n",
            "    test: Dataset({\n",
            "        features: ['review', 'sentiment', 'tokenized_ids'],\n",
            "        num_rows: 500\n",
            "    })\n",
            "})\n",
            "I won't be too hard on this show because I enjoyed the first season, but then, things got worse. The concept is nothing special, just about a girl named Casey who is trying to cope with a new step-brother, Derek, and his loud, crude family, while she gradually forces her princess standards onto each of them.<br /><br />In season 1, the story was actually interesting. I liked Casey back then because she was smart, strong, independent, and conservative. She was well-mannered and deep. I felt bad when she was being harassed at her new school by her new step-brother. She was a perfectionist, but not as annoying as the later episodes. Oh, and she dated a nice guy, who is now currently portrayed as one of Derek's idiot friends. The season grasped the true tension the title of the show was trying to capture.<br /><br />Now, I can't say the show has really gone downhill because the story is sometimes interesting, but I root for Derek now instead of Casey. Now, there is little, if any interaction, between the two siblings. If they interact, it's only briefly. Oh, and I don't want any Dasey fans in my face. People, that's called INCEST, even if they are step-siblings. My tolerance can only go so far, but that's not the point.<br /><br />It's strange. Derek, as the antagonist, has gotten more sensitive over time, while Casey, the supposed protagonist, is more neurotic and unlikeable than before. I like how the younger kids get more airtime, but the parents are even more clueless than before. But that's not the biggest problem...<br /><br />Unfortunately, we are forced to see everything from Casey's point of view, with lame, nauseating background music. She has gotten stupider and more shallow over time. In one episode, she got whiny and wanted her boyfriend to be more chivalrous, so she purposely dumped food on herself and blamed Derek. Now, what happened to being a strong, independent feminist? I haven't watched much of the fourth season, but I hear she is dating a guy named Truman, who is a jackass and is arrogant. Oh, I remember that fencing episode. She constantly reminds him she doesn't like him, freaks out over being \"goosed\" by a sword, and in the end, hooks up with him because she can \"handle\" him? What the hell? Why go with a guy like that in the first place. The 1st season Casey would have just punched him in his...never mind. Or, maybe that would have been my reaction. Oh, and she's a cheerleader. Not that that's a bad thing, but I think she fell on her head at one of her practices. And in a prom episode, she cried because she couldn't find the \"dress in her dreams,\" and wasn't completely satisfied until she became prom queen. One thing I've noticed is that no matter how bad Casey tries to tell us her life is, thing's almost always go her way in the end (she gets the guy she wants, Derek gets some kind of revenge, people all love her, etc.) Derek is still quite immature, but I see that he really has matured. I don't see why many people hate Sally. She seems nice, and it's good to see Derek in a serious relationship with someone he cares about rather than \"playing the field.\" He is also treating Edwin slightly better, and is a good brother to Marti.<br /><br />Really, the show is so-so, and I rated it low because despite some character development, the character I once admired has now become like any \"fashionable teen queen\" you can see anywhere on TV. But it was good while it lasted.\n",
            "[0, 15, 364, 11, 30, 36, 106, 305, 29, 16, 116, 93, 15, 549, 4, 88, 742, 6, 24, 103, 6, 190, 211, 423, 5, 4, 1025, 12, 165, 302, 6, 50, 53, 8, 265, 865, 4646, 44, 12, 291, 10, 4008, 23, 8, 179, 20542, 6, 2237, 6, 7, 34, 1368, 6, 3417, 237, 6, 146, 64, 2977, 1602, 51, 2748, 1875, 1606, 260, 9, 102, 5, 14, 742, 412, 6, 4, 76, 19, 172, 230, 5, 15, 464, 4646, 153, 103, 93, 64, 19, 1355, 6, 541, 6, 1713, 6, 7, 4227, 5, 64, 19, 39565, 7, 1001, 5, 15, 442, 94, 59, 64, 19, 118, 9956, 40, 51, 179, 386, 41, 51, 179, 20542, 5, 64, 19, 8, 33790, 6, 24, 31, 20, 702, 20, 4, 343, 637, 5, 411, 6, 7, 64, 2076, 8, 356, 205, 6, 44, 12, 148, 3844, 939, 20, 37, 9, 2237, 11, 18, 2988, 342, 5, 4, 742, 28569, 4, 280, 1049, 4, 473, 9, 4, 116, 19, 291, 10, 1888, 5, 148, 6, 15, 62, 11, 30, 143, 4, 116, 54, 71, 782, 4949, 93, 4, 76, 12, 579, 230, 6, 24, 15, 3763, 21, 2237, 148, 321, 9, 4646, 5, 148, 6, 48, 12, 125, 6, 55, 113, 3449, 6, 219, 4, 119, 6249, 5, 55, 42, 5677, 6, 13, 11, 18, 73, 2621, 5, 411, 6, 7, 15, 100, 11, 30, 191, 113, 25731, 485, 14, 66, 365, 5, 82, 6, 17, 11, 18, 493, 5672, 6, 69, 55, 42, 33, 20544, 5, 66, 6831, 62, 73, 144, 46, 229, 6, 24, 17, 11, 18, 31, 4, 213, 5, 13, 11, 18, 688, 5, 2237, 6, 20, 4, 5894, 6, 54, 1686, 61, 2516, 136, 68, 6, 146, 4646, 6, 4, 453, 1558, 6, 12, 61, 8032, 7, 5467, 81, 161, 5, 15, 47, 91, 4, 1015, 379, 89, 61, 22366, 6, 24, 4, 794, 33, 69, 61, 5226, 81, 161, 5, 24, 17, 11, 18, 31, 4, 1125, 486, 5, 5, 5, 505, 6, 78, 33, 792, 10, 74, 284, 45, 4646, 11, 18, 213, 9, 596, 6, 23, 921, 6, 7270, 909, 225, 5, 64, 54, 1686, 20606, 7, 61, 2164, 136, 68, 5, 14, 37, 390, 6, 64, 211, 5478, 7, 456, 51, 1409, 10, 36, 61, 24671, 6, 46, 64, 14850, 6505, 1549, 29, 1030, 7, 13072, 2237, 5, 148, 6, 58, 589, 10, 118, 8, 541, 6, 1713, 4960, 56, 15, 727, 11, 30, 270, 86, 9, 4, 2369, 742, 6, 24, 15, 904, 64, 12, 3846, 8, 205, 865, 6300, 6, 44, 12, 8, 4996, 7, 12, 3663, 5, 411, 6, 15, 383, 17, 17606, 390, 5, 64, 1489, 2055, 95, 64, 163, 11, 30, 47, 95, 6, 6045, 52, 136, 118, 28488, 41, 8, 3147, 6, 7, 14, 4, 133, 6, 6578, 65, 23, 95, 93, 64, 62, 2143, 95, 56, 58, 4, 623, 56, 145, 144, 23, 8, 205, 47, 17, 14, 4, 88, 242, 5, 4, 3501, 742, 4646, 70, 35, 50, 19735, 95, 14, 34, 5, 5, 5, 132, 347, 5, 49, 6, 262, 17, 70, 35, 96, 66, 1740, 5, 411, 6, 7, 64, 11, 18, 8, 13243, 5, 31, 17, 17, 11, 18, 8, 94, 159, 6, 24, 15, 108, 64, 1288, 29, 51, 454, 40, 37, 9, 51, 19621, 5, 7, 14, 8, 8117, 390, 6, 64, 4451, 93, 64, 384, 11, 30, 171, 4, 2238, 14, 51, 1379, 6, 7, 300, 11, 30, 353, 5089, 358, 64, 892, 8117, 1811, 5, 37, 159, 15, 11, 150, 1306, 12, 17, 67, 530, 91, 94, 4646, 468, 10, 372, 183, 51, 126, 12, 6, 159, 11, 18, 212, 235, 144, 51, 105, 14, 4, 133, 27, 64, 227, 4, 205, 64, 515, 6, 2237, 227, 57, 239, 9, 1134, 6, 82, 39, 117, 51, 6, 561, 5, 26, 2237, 12, 151, 200, 5302, 6, 24, 15, 74, 17, 32, 71, 54, 31661, 5, 15, 100, 11, 30, 74, 145, 121, 82, 763, 3766, 5, 64, 203, 356, 6, 7, 13, 11, 18, 60, 10, 74, 2237, 14, 8, 751, 707, 23, 290, 32, 2029, 53, 246, 81, 413, 4, 2309, 5, 32, 12, 87, 5842, 26762, 956, 141, 6, 7, 12, 8, 60, 682, 10, 31578, 5, 71, 6, 4, 116, 12, 5802, 6, 7, 15, 1281, 13, 478, 93, 452, 57, 114, 1064, 6, 4, 114, 15, 299, 5167, 54, 148, 406, 47, 113, 13751, 1513, 1811, 28, 62, 74, 2227, 29, 255, 5, 24, 13, 19, 60, 146, 13, 4745, 5, 1]\n"
          ]
        }
      ],
      "source": [
        "import torchtext\n",
        "from torchtext.data.utils import get_tokenizer\n",
        "from torchtext.vocab import Vocab, build_vocab_from_iterator\n",
        "from datasets import DatasetDict\n",
        "\n",
        "eng_tokenizer = get_tokenizer(\"basic_english\")\n",
        "\n",
        "def yield_tokens(data):\n",
        "    for row in data:\n",
        "        yield eng_tokenizer(row['review'])\n",
        "\n",
        "# Build English vocabulary\n",
        "eng_vocab = build_vocab_from_iterator(\n",
        "    yield_tokens(eng_data['train']),\n",
        "    specials=['<bos>', '<eos>', '<unk>', '<pad>']\n",
        ")\n",
        "eng_vocab.set_default_index(eng_vocab[\"<unk>\"])\n",
        "\n",
        "def tokenize(dataset, tokenizer, vocab):\n",
        "    tokens = tokenizer(dataset[\"review\"])\n",
        "    token_ids = [vocab[token] for token in tokens]\n",
        "    token_ids.insert(0, 0)\n",
        "    token_ids.append(1)\n",
        "    return {'tokenized_ids': token_ids}\n",
        "\n",
        "eng_data = eng_data.map(\n",
        "    lambda dataset: tokenize(dataset, eng_tokenizer, eng_vocab)\n",
        ")\n",
        "print(eng_data)\n",
        "print(eng_data['train']['review'][0])\n",
        "print(eng_data['train']['tokenized_ids'][0])\n"
      ]
    },
    {
      "cell_type": "markdown",
      "source": [
        "To tokenize French"
      ],
      "metadata": {
        "id": "ZFLEAth_rLQ1"
      },
      "id": "ZFLEAth_rLQ1"
    },
    {
      "cell_type": "code",
      "source": [
        "!pip install spacy\n",
        "!python -m spacy download fr_core_news_sm\n",
        "\n",
        "import spacy\n",
        "nlp = spacy.load(\"fr_core_news_sm\")"
      ],
      "metadata": {
        "colab": {
          "base_uri": "https://localhost:8080/"
        },
        "id": "ad7YA4mUpZOU",
        "outputId": "15273313-13b8-4887-8efe-936f388e2a1d"
      },
      "id": "ad7YA4mUpZOU",
      "execution_count": null,
      "outputs": [
        {
          "output_type": "stream",
          "name": "stdout",
          "text": [
            "Requirement already satisfied: spacy in /usr/local/lib/python3.10/dist-packages (3.7.4)\n",
            "Requirement already satisfied: spacy-legacy<3.1.0,>=3.0.11 in /usr/local/lib/python3.10/dist-packages (from spacy) (3.0.12)\n",
            "Requirement already satisfied: spacy-loggers<2.0.0,>=1.0.0 in /usr/local/lib/python3.10/dist-packages (from spacy) (1.0.5)\n",
            "Requirement already satisfied: murmurhash<1.1.0,>=0.28.0 in /usr/local/lib/python3.10/dist-packages (from spacy) (1.0.10)\n",
            "Requirement already satisfied: cymem<2.1.0,>=2.0.2 in /usr/local/lib/python3.10/dist-packages (from spacy) (2.0.8)\n",
            "Requirement already satisfied: preshed<3.1.0,>=3.0.2 in /usr/local/lib/python3.10/dist-packages (from spacy) (3.0.9)\n",
            "Requirement already satisfied: thinc<8.3.0,>=8.2.2 in /usr/local/lib/python3.10/dist-packages (from spacy) (8.2.3)\n",
            "Requirement already satisfied: wasabi<1.2.0,>=0.9.1 in /usr/local/lib/python3.10/dist-packages (from spacy) (1.1.2)\n",
            "Requirement already satisfied: srsly<3.0.0,>=2.4.3 in /usr/local/lib/python3.10/dist-packages (from spacy) (2.4.8)\n",
            "Requirement already satisfied: catalogue<2.1.0,>=2.0.6 in /usr/local/lib/python3.10/dist-packages (from spacy) (2.0.10)\n",
            "Requirement already satisfied: weasel<0.4.0,>=0.1.0 in /usr/local/lib/python3.10/dist-packages (from spacy) (0.3.4)\n",
            "Requirement already satisfied: typer<0.10.0,>=0.3.0 in /usr/local/lib/python3.10/dist-packages (from spacy) (0.9.4)\n",
            "Requirement already satisfied: smart-open<7.0.0,>=5.2.1 in /usr/local/lib/python3.10/dist-packages (from spacy) (6.4.0)\n",
            "Requirement already satisfied: tqdm<5.0.0,>=4.38.0 in /usr/local/lib/python3.10/dist-packages (from spacy) (4.66.2)\n",
            "Requirement already satisfied: requests<3.0.0,>=2.13.0 in /usr/local/lib/python3.10/dist-packages (from spacy) (2.31.0)\n",
            "Requirement already satisfied: pydantic!=1.8,!=1.8.1,<3.0.0,>=1.7.4 in /usr/local/lib/python3.10/dist-packages (from spacy) (2.7.0)\n",
            "Requirement already satisfied: jinja2 in /usr/local/lib/python3.10/dist-packages (from spacy) (3.1.3)\n",
            "Requirement already satisfied: setuptools in /usr/local/lib/python3.10/dist-packages (from spacy) (67.7.2)\n",
            "Requirement already satisfied: packaging>=20.0 in /usr/local/lib/python3.10/dist-packages (from spacy) (24.0)\n",
            "Requirement already satisfied: langcodes<4.0.0,>=3.2.0 in /usr/local/lib/python3.10/dist-packages (from spacy) (3.3.0)\n",
            "Requirement already satisfied: numpy>=1.19.0 in /usr/local/lib/python3.10/dist-packages (from spacy) (1.25.2)\n",
            "Requirement already satisfied: annotated-types>=0.4.0 in /usr/local/lib/python3.10/dist-packages (from pydantic!=1.8,!=1.8.1,<3.0.0,>=1.7.4->spacy) (0.6.0)\n",
            "Requirement already satisfied: pydantic-core==2.18.1 in /usr/local/lib/python3.10/dist-packages (from pydantic!=1.8,!=1.8.1,<3.0.0,>=1.7.4->spacy) (2.18.1)\n",
            "Requirement already satisfied: typing-extensions>=4.6.1 in /usr/local/lib/python3.10/dist-packages (from pydantic!=1.8,!=1.8.1,<3.0.0,>=1.7.4->spacy) (4.11.0)\n",
            "Requirement already satisfied: charset-normalizer<4,>=2 in /usr/local/lib/python3.10/dist-packages (from requests<3.0.0,>=2.13.0->spacy) (3.3.2)\n",
            "Requirement already satisfied: idna<4,>=2.5 in /usr/local/lib/python3.10/dist-packages (from requests<3.0.0,>=2.13.0->spacy) (3.7)\n",
            "Requirement already satisfied: urllib3<3,>=1.21.1 in /usr/local/lib/python3.10/dist-packages (from requests<3.0.0,>=2.13.0->spacy) (2.0.7)\n",
            "Requirement already satisfied: certifi>=2017.4.17 in /usr/local/lib/python3.10/dist-packages (from requests<3.0.0,>=2.13.0->spacy) (2024.2.2)\n",
            "Requirement already satisfied: blis<0.8.0,>=0.7.8 in /usr/local/lib/python3.10/dist-packages (from thinc<8.3.0,>=8.2.2->spacy) (0.7.11)\n",
            "Requirement already satisfied: confection<1.0.0,>=0.0.1 in /usr/local/lib/python3.10/dist-packages (from thinc<8.3.0,>=8.2.2->spacy) (0.1.4)\n",
            "Requirement already satisfied: click<9.0.0,>=7.1.1 in /usr/local/lib/python3.10/dist-packages (from typer<0.10.0,>=0.3.0->spacy) (8.1.7)\n",
            "Requirement already satisfied: cloudpathlib<0.17.0,>=0.7.0 in /usr/local/lib/python3.10/dist-packages (from weasel<0.4.0,>=0.1.0->spacy) (0.16.0)\n",
            "Requirement already satisfied: MarkupSafe>=2.0 in /usr/local/lib/python3.10/dist-packages (from jinja2->spacy) (2.1.5)\n",
            "Collecting fr-core-news-sm==3.7.0\n",
            "  Downloading https://github.com/explosion/spacy-models/releases/download/fr_core_news_sm-3.7.0/fr_core_news_sm-3.7.0-py3-none-any.whl (16.3 MB)\n",
            "\u001b[2K     \u001b[90m━━━━━━━━━━━━━━━━━━━━━━━━━━━━━━━━━━━━━━━━\u001b[0m \u001b[32m16.3/16.3 MB\u001b[0m \u001b[31m50.7 MB/s\u001b[0m eta \u001b[36m0:00:00\u001b[0m\n",
            "\u001b[?25hRequirement already satisfied: spacy<3.8.0,>=3.7.0 in /usr/local/lib/python3.10/dist-packages (from fr-core-news-sm==3.7.0) (3.7.4)\n",
            "Requirement already satisfied: spacy-legacy<3.1.0,>=3.0.11 in /usr/local/lib/python3.10/dist-packages (from spacy<3.8.0,>=3.7.0->fr-core-news-sm==3.7.0) (3.0.12)\n",
            "Requirement already satisfied: spacy-loggers<2.0.0,>=1.0.0 in /usr/local/lib/python3.10/dist-packages (from spacy<3.8.0,>=3.7.0->fr-core-news-sm==3.7.0) (1.0.5)\n",
            "Requirement already satisfied: murmurhash<1.1.0,>=0.28.0 in /usr/local/lib/python3.10/dist-packages (from spacy<3.8.0,>=3.7.0->fr-core-news-sm==3.7.0) (1.0.10)\n",
            "Requirement already satisfied: cymem<2.1.0,>=2.0.2 in /usr/local/lib/python3.10/dist-packages (from spacy<3.8.0,>=3.7.0->fr-core-news-sm==3.7.0) (2.0.8)\n",
            "Requirement already satisfied: preshed<3.1.0,>=3.0.2 in /usr/local/lib/python3.10/dist-packages (from spacy<3.8.0,>=3.7.0->fr-core-news-sm==3.7.0) (3.0.9)\n",
            "Requirement already satisfied: thinc<8.3.0,>=8.2.2 in /usr/local/lib/python3.10/dist-packages (from spacy<3.8.0,>=3.7.0->fr-core-news-sm==3.7.0) (8.2.3)\n",
            "Requirement already satisfied: wasabi<1.2.0,>=0.9.1 in /usr/local/lib/python3.10/dist-packages (from spacy<3.8.0,>=3.7.0->fr-core-news-sm==3.7.0) (1.1.2)\n",
            "Requirement already satisfied: srsly<3.0.0,>=2.4.3 in /usr/local/lib/python3.10/dist-packages (from spacy<3.8.0,>=3.7.0->fr-core-news-sm==3.7.0) (2.4.8)\n",
            "Requirement already satisfied: catalogue<2.1.0,>=2.0.6 in /usr/local/lib/python3.10/dist-packages (from spacy<3.8.0,>=3.7.0->fr-core-news-sm==3.7.0) (2.0.10)\n",
            "Requirement already satisfied: weasel<0.4.0,>=0.1.0 in /usr/local/lib/python3.10/dist-packages (from spacy<3.8.0,>=3.7.0->fr-core-news-sm==3.7.0) (0.3.4)\n",
            "Requirement already satisfied: typer<0.10.0,>=0.3.0 in /usr/local/lib/python3.10/dist-packages (from spacy<3.8.0,>=3.7.0->fr-core-news-sm==3.7.0) (0.9.4)\n",
            "Requirement already satisfied: smart-open<7.0.0,>=5.2.1 in /usr/local/lib/python3.10/dist-packages (from spacy<3.8.0,>=3.7.0->fr-core-news-sm==3.7.0) (6.4.0)\n",
            "Requirement already satisfied: tqdm<5.0.0,>=4.38.0 in /usr/local/lib/python3.10/dist-packages (from spacy<3.8.0,>=3.7.0->fr-core-news-sm==3.7.0) (4.66.2)\n",
            "Requirement already satisfied: requests<3.0.0,>=2.13.0 in /usr/local/lib/python3.10/dist-packages (from spacy<3.8.0,>=3.7.0->fr-core-news-sm==3.7.0) (2.31.0)\n",
            "Requirement already satisfied: pydantic!=1.8,!=1.8.1,<3.0.0,>=1.7.4 in /usr/local/lib/python3.10/dist-packages (from spacy<3.8.0,>=3.7.0->fr-core-news-sm==3.7.0) (2.7.0)\n",
            "Requirement already satisfied: jinja2 in /usr/local/lib/python3.10/dist-packages (from spacy<3.8.0,>=3.7.0->fr-core-news-sm==3.7.0) (3.1.3)\n",
            "Requirement already satisfied: setuptools in /usr/local/lib/python3.10/dist-packages (from spacy<3.8.0,>=3.7.0->fr-core-news-sm==3.7.0) (67.7.2)\n",
            "Requirement already satisfied: packaging>=20.0 in /usr/local/lib/python3.10/dist-packages (from spacy<3.8.0,>=3.7.0->fr-core-news-sm==3.7.0) (24.0)\n",
            "Requirement already satisfied: langcodes<4.0.0,>=3.2.0 in /usr/local/lib/python3.10/dist-packages (from spacy<3.8.0,>=3.7.0->fr-core-news-sm==3.7.0) (3.3.0)\n",
            "Requirement already satisfied: numpy>=1.19.0 in /usr/local/lib/python3.10/dist-packages (from spacy<3.8.0,>=3.7.0->fr-core-news-sm==3.7.0) (1.25.2)\n",
            "Requirement already satisfied: annotated-types>=0.4.0 in /usr/local/lib/python3.10/dist-packages (from pydantic!=1.8,!=1.8.1,<3.0.0,>=1.7.4->spacy<3.8.0,>=3.7.0->fr-core-news-sm==3.7.0) (0.6.0)\n",
            "Requirement already satisfied: pydantic-core==2.18.1 in /usr/local/lib/python3.10/dist-packages (from pydantic!=1.8,!=1.8.1,<3.0.0,>=1.7.4->spacy<3.8.0,>=3.7.0->fr-core-news-sm==3.7.0) (2.18.1)\n",
            "Requirement already satisfied: typing-extensions>=4.6.1 in /usr/local/lib/python3.10/dist-packages (from pydantic!=1.8,!=1.8.1,<3.0.0,>=1.7.4->spacy<3.8.0,>=3.7.0->fr-core-news-sm==3.7.0) (4.11.0)\n",
            "Requirement already satisfied: charset-normalizer<4,>=2 in /usr/local/lib/python3.10/dist-packages (from requests<3.0.0,>=2.13.0->spacy<3.8.0,>=3.7.0->fr-core-news-sm==3.7.0) (3.3.2)\n",
            "Requirement already satisfied: idna<4,>=2.5 in /usr/local/lib/python3.10/dist-packages (from requests<3.0.0,>=2.13.0->spacy<3.8.0,>=3.7.0->fr-core-news-sm==3.7.0) (3.7)\n",
            "Requirement already satisfied: urllib3<3,>=1.21.1 in /usr/local/lib/python3.10/dist-packages (from requests<3.0.0,>=2.13.0->spacy<3.8.0,>=3.7.0->fr-core-news-sm==3.7.0) (2.0.7)\n",
            "Requirement already satisfied: certifi>=2017.4.17 in /usr/local/lib/python3.10/dist-packages (from requests<3.0.0,>=2.13.0->spacy<3.8.0,>=3.7.0->fr-core-news-sm==3.7.0) (2024.2.2)\n",
            "Requirement already satisfied: blis<0.8.0,>=0.7.8 in /usr/local/lib/python3.10/dist-packages (from thinc<8.3.0,>=8.2.2->spacy<3.8.0,>=3.7.0->fr-core-news-sm==3.7.0) (0.7.11)\n",
            "Requirement already satisfied: confection<1.0.0,>=0.0.1 in /usr/local/lib/python3.10/dist-packages (from thinc<8.3.0,>=8.2.2->spacy<3.8.0,>=3.7.0->fr-core-news-sm==3.7.0) (0.1.4)\n",
            "Requirement already satisfied: click<9.0.0,>=7.1.1 in /usr/local/lib/python3.10/dist-packages (from typer<0.10.0,>=0.3.0->spacy<3.8.0,>=3.7.0->fr-core-news-sm==3.7.0) (8.1.7)\n",
            "Requirement already satisfied: cloudpathlib<0.17.0,>=0.7.0 in /usr/local/lib/python3.10/dist-packages (from weasel<0.4.0,>=0.1.0->spacy<3.8.0,>=3.7.0->fr-core-news-sm==3.7.0) (0.16.0)\n",
            "Requirement already satisfied: MarkupSafe>=2.0 in /usr/local/lib/python3.10/dist-packages (from jinja2->spacy<3.8.0,>=3.7.0->fr-core-news-sm==3.7.0) (2.1.5)\n",
            "Installing collected packages: fr-core-news-sm\n",
            "Successfully installed fr-core-news-sm-3.7.0\n",
            "\u001b[38;5;2m✔ Download and installation successful\u001b[0m\n",
            "You can now load the package via spacy.load('fr_core_news_sm')\n",
            "\u001b[38;5;3m⚠ Restart to reload dependencies\u001b[0m\n",
            "If you are in a Jupyter or Colab notebook, you may need to restart Python in\n",
            "order to load all the package's dependencies. You can do this by selecting the\n",
            "'Restart kernel' or 'Restart runtime' option.\n"
          ]
        }
      ]
    },
    {
      "cell_type": "code",
      "source": [
        "def spacy_french_tokenizer(text):\n",
        "    return [token.text for token in nlp(text)]\n",
        "\n",
        "fre_tokenizer = get_tokenizer(spacy_french_tokenizer)\n",
        "\n",
        "# Build Frech vocabulary\n",
        "fre_vocab = build_vocab_from_iterator(\n",
        "    yield_tokens(fre_data['train']),\n",
        "    specials=['<bos>', '<eos>', '<unk>', '<pad>']\n",
        ")\n",
        "fre_vocab.set_default_index(fre_vocab[\"<unk>\"])\n",
        "\n",
        "fre_data = fre_data.map(\n",
        "    lambda dataset: tokenize(dataset, fre_tokenizer, fre_vocab)\n",
        ")\n",
        "print(fre_data)\n",
        "print(fre_data['train']['review'][0])\n",
        "print(fre_data['train']['tokenized_ids'][0])"
      ],
      "metadata": {
        "colab": {
          "base_uri": "https://localhost:8080/",
          "height": 391,
          "referenced_widgets": [
            "c44392430f78468cac5aac8d7317f244",
            "cab3d5537aab4ad1b9d9fff762f3a940",
            "bce0780f0f5c4c7d81c175a5812ecef5",
            "73d2303436124d979095d92ae63c7e0d",
            "074ceb4ae6114cad9afaf17646cfef53",
            "428ee92f6155497c8dcd44b311d113f6",
            "5eb1d4de56d040a596a08b22d0aa1154",
            "38eeb189fdd74f9a8a6145f6fd6f91b4",
            "aaa2ce9b0f0648daadd85b2fb39badc6",
            "6fb68f9f9f0147658d38768dee592648",
            "3d613df993da414d9c227ae1e4746ca6",
            "1f338f5c83c34949b974ba3801acc6b4",
            "4b9d992635e44da8a12b76bfa66d6710",
            "81b1f5e2fc0e45a9bbb52224cdc35aff",
            "cd9435a9fca94f029a146453c53ceb01",
            "05ed6aae5184434e97ef2f799f601dd6",
            "6a946cf77b1442a59882d42a9877fb3e",
            "ca633378366e41d196701e55b50efca2",
            "2a0fbf445bf04a7880e46c26fa8ca14a",
            "384596c38178464ab00184e6f44ec20e",
            "b2fd034025924fe49054089cebfad994",
            "3d39fe8035f3479aabc1ba57906ad6b4",
            "73072857d06f4e55b65519aee6e18e62",
            "cdba0ef4850941efae7812fbb805dcef",
            "3c3d1f7fb5084342b39b4de1d4acde24",
            "54d2f83cbfad47fb853e6e7577513a11",
            "c78e356c28514fe2ad38f778dc637c8a",
            "67022b0470d5480fbd10bbc0024e2c5c",
            "2fb3335f18b848e1bcbd4b4b6f09fe3b",
            "4d5b5fe967484b29a88d2a95b5a7bd9d",
            "d7a92bc5f79e481d8c09205403abc1da",
            "f61fc27572af4e6bb0fcc070f8a95749",
            "1c7c324fd73b4aad92530d37a3089f33"
          ]
        },
        "id": "wBEc6e-Qq39b",
        "outputId": "88567c7d-e46b-46a0-a447-2e09348179c5"
      },
      "id": "wBEc6e-Qq39b",
      "execution_count": null,
      "outputs": [
        {
          "output_type": "display_data",
          "data": {
            "text/plain": [
              "Map:   0%|          | 0/4000 [00:00<?, ? examples/s]"
            ],
            "application/vnd.jupyter.widget-view+json": {
              "version_major": 2,
              "version_minor": 0,
              "model_id": "c44392430f78468cac5aac8d7317f244"
            }
          },
          "metadata": {}
        },
        {
          "output_type": "display_data",
          "data": {
            "text/plain": [
              "Map:   0%|          | 0/500 [00:00<?, ? examples/s]"
            ],
            "application/vnd.jupyter.widget-view+json": {
              "version_major": 2,
              "version_minor": 0,
              "model_id": "1f338f5c83c34949b974ba3801acc6b4"
            }
          },
          "metadata": {}
        },
        {
          "output_type": "display_data",
          "data": {
            "text/plain": [
              "Map:   0%|          | 0/500 [00:00<?, ? examples/s]"
            ],
            "application/vnd.jupyter.widget-view+json": {
              "version_major": 2,
              "version_minor": 0,
              "model_id": "73072857d06f4e55b65519aee6e18e62"
            }
          },
          "metadata": {}
        },
        {
          "output_type": "stream",
          "name": "stdout",
          "text": [
            "DatasetDict({\n",
            "    train: Dataset({\n",
            "        features: ['review', 'sentiment', 'tokenized_ids'],\n",
            "        num_rows: 4000\n",
            "    })\n",
            "    validation: Dataset({\n",
            "        features: ['review', 'sentiment', 'tokenized_ids'],\n",
            "        num_rows: 500\n",
            "    })\n",
            "    test: Dataset({\n",
            "        features: ['review', 'sentiment', 'tokenized_ids'],\n",
            "        num_rows: 500\n",
            "    })\n",
            "})\n",
            "Un beau film, tout en nuances, bonne idée de mise en scène.\n",
            "[0, 2, 150, 14, 5, 45, 19, 7088, 5, 133, 243, 7, 108, 19, 77, 4, 1]\n"
          ]
        }
      ]
    },
    {
      "cell_type": "code",
      "execution_count": null,
      "id": "14df52bb",
      "metadata": {
        "colab": {
          "base_uri": "https://localhost:8080/"
        },
        "id": "14df52bb",
        "outputId": "e769e51e-965f-49ae-8790-8d07b2a9e91a"
      },
      "outputs": [
        {
          "output_type": "stream",
          "name": "stdout",
          "text": [
            "40182 30038\n",
            "['<bos>', 'the', 'movie', 'pneumonoultramicroscopicsilicovolcanoconiosis', 'is', 'a', 'good', 'movie', ',', 'it', 'is', 'very', 'funny', '<eos>']\n",
            "[0, 4, 22, 2, 12, 8, 60, 22, 6, 13, 12, 63, 158, 1]\n",
            "['Le', 'film', 'Pneumonoultramicroscopiquesilicovolcanoconiose', 'est', 'un', 'bon', 'film', ',', 'il', 'est', 'très', 'drôle']\n",
            "[2, 14, 2, 12, 11, 66, 14, 5, 30, 12, 40, 224]\n"
          ]
        }
      ],
      "source": [
        "# Print the number of words in the vocabulary\n",
        "print(len(eng_vocab), len(fre_vocab))\n",
        "\n",
        "# Convert a review into a sequence of word indices.\n",
        "eng_review = 'The movie Pneumonoultramicroscopicsilicovolcanoconiosis is a good movie, it is very funny'\n",
        "tokens = eng_tokenizer(f'<bos> {eng_review} <eos>')\n",
        "print(tokens)\n",
        "indices = eng_vocab.forward(tokens)\n",
        "print(indices)\n",
        "\n",
        "fre_review = 'Le film Pneumonoultramicroscopiquesilicovolcanoconiose est un bon film, il est très drôle'\n",
        "tokens = fre_tokenizer(fre_review)\n",
        "print(tokens)\n",
        "indices = fre_vocab.forward(tokens)\n",
        "print(indices)"
      ]
    },
    {
      "cell_type": "markdown",
      "source": [
        "Convert DatasetDict to list"
      ],
      "metadata": {
        "id": "c2c7ErZ5tsAX"
      },
      "id": "c2c7ErZ5tsAX"
    },
    {
      "cell_type": "code",
      "source": [
        "def dataset_to_list(dataset):\n",
        "    return [(row['tokenized_ids'], row['sentiment']) for row in dataset]\n",
        "eng_train_data_indices = dataset_to_list(eng_data['train'])\n",
        "eng_val_data_indices = dataset_to_list(eng_data['validation'])\n",
        "eng_test_data_indices = dataset_to_list(eng_data['test'])\n",
        "print(len(eng_train_data_indices), len(eng_val_data_indices), len(eng_test_data_indices))\n",
        "print(eng_train_data_indices[4])\n",
        "\n",
        "fre_train_data_indices = dataset_to_list(fre_data['train'])\n",
        "fre_val_data_indices = dataset_to_list(fre_data['validation'])\n",
        "fre_test_data_indices = dataset_to_list(fre_data['test'])\n",
        "print(len(fre_train_data_indices), len(fre_val_data_indices), len(fre_test_data_indices))\n",
        "print(fre_train_data_indices[0])"
      ],
      "metadata": {
        "colab": {
          "base_uri": "https://localhost:8080/"
        },
        "id": "Vzg5OZ4PtrmX",
        "outputId": "9c8ad664-3974-4c12-f681-c285256b754c"
      },
      "id": "Vzg5OZ4PtrmX",
      "execution_count": null,
      "outputs": [
        {
          "output_type": "stream",
          "name": "stdout",
          "text": [
            "4000 500 500\n",
            "([0, 4, 25, 54, 67, 1827, 23, 4, 160, 126, 14, 13105, 14, 157, 536, 5, 154, 36, 61, 796, 7, 279, 4, 548, 160, 20929, 17, 79, 1206, 10, 1147, 82, 301, 4, 304, 5, 595, 74, 57, 115, 9, 40027, 6397, 27, 26892, 14261, 6, 31089, 35725, 6, 5, 5, 5, 954, 5, 1625, 5, 24094, 23258, 27, 8, 5912, 9, 12124, 26, 6, 12581, 15, 30115, 27, 12581, 7, 77, 26, 6, 30907, 36096, 30908, 698, 27, 330, 10733, 3820, 330, 26, 6, 561, 5, 5, 5, 50, 16, 12, 4, 160, 105, 10, 130, 53, 46, 493, 13106, 486, 5, 377, 12, 5574, 31, 6823, 206, 4408, 10, 101, 115, 53, 4, 23164, 12070, 5, 262, 1614, 6, 21361, 1495, 6, 5, 5, 5, 24, 31, 9, 4, 36654, 491, 14, 991, 12748, 5, 1], 0)\n",
            "4000 500 500\n",
            "([0, 2, 150, 14, 5, 45, 19, 7088, 5, 133, 243, 7, 108, 19, 77, 4, 1], 1)\n"
          ]
        }
      ]
    },
    {
      "cell_type": "markdown",
      "source": [
        "Combine datasets for training and validation"
      ],
      "metadata": {
        "id": "7zqBw2OO2KW8"
      },
      "id": "7zqBw2OO2KW8"
    },
    {
      "cell_type": "code",
      "source": [
        "combined_train_indices = eng_train_data_indices + fre_train_data_indices\n",
        "combined_val_indices = eng_val_data_indices + fre_val_data_indices\n",
        "print(len(combined_train_indices), len(combined_val_indices))"
      ],
      "metadata": {
        "colab": {
          "base_uri": "https://localhost:8080/"
        },
        "id": "I3UEPpzI2Jqq",
        "outputId": "3441a9e7-2a21-4b43-ee09-9823fe3d7a9f"
      },
      "id": "I3UEPpzI2Jqq",
      "execution_count": null,
      "outputs": [
        {
          "output_type": "stream",
          "name": "stdout",
          "text": [
            "8000 1000\n"
          ]
        }
      ]
    },
    {
      "cell_type": "code",
      "execution_count": null,
      "id": "3f826103",
      "metadata": {
        "id": "3f826103"
      },
      "outputs": [],
      "source": [
        "import torch\n",
        "from torch.utils.data import DataLoader\n",
        "from torch.nn.utils.rnn import pad_sequence\n",
        "\n",
        "def collate_batch(batch):\n",
        "    \"\"\"\n",
        "    Returns the input and target tensors for a batch of data\n",
        "\n",
        "    Parameters:\n",
        "        `batch` - An iterable data structure of tuples (indices, label),\n",
        "                  where `indices` is a sequence of word indices, and\n",
        "                  `label` is either 1 or 0.\n",
        "\n",
        "    Returns: a tuple `(X, t)`, where\n",
        "        - `X` is a PyTorch tensor of shape (batch_size, sequence_length)\n",
        "        - `t` is a PyTorch tensor of shape (batch_size)\n",
        "    where `sequence_length` is the length of the longest sequence in the batch\n",
        "    \"\"\"\n",
        "\n",
        "    text_list = []  # collect each sample's sequence of word indices\n",
        "    label_list = [] # collect each sample's target labels\n",
        "    for (text_indices, label) in batch:\n",
        "        text_list.append(torch.tensor(text_indices))\n",
        "        label_list.append(label)\n",
        "\n",
        "    X = pad_sequence(text_list, padding_value=3).transpose(0, 1)\n",
        "    t = torch.tensor(label_list)\n",
        "    return X, t\n",
        "\n",
        "\n",
        "train_dataloader = DataLoader(combined_train_indices, batch_size=10, shuffle=True,\n",
        "                              collate_fn=collate_batch)"
      ]
    },
    {
      "cell_type": "markdown",
      "id": "d6019359",
      "metadata": {
        "id": "d6019359"
      },
      "source": [
        "With the above code in mind, we should be able to extract batches from `train_dataloader`.\n",
        "Notice that `X.shape` is different in each batch.\n"
      ]
    },
    {
      "cell_type": "code",
      "execution_count": null,
      "id": "508a5221",
      "metadata": {
        "colab": {
          "base_uri": "https://localhost:8080/"
        },
        "id": "508a5221",
        "outputId": "a717e6d4-5d84-4bac-a4d4-baab72ed7e6d"
      },
      "outputs": [
        {
          "output_type": "stream",
          "name": "stdout",
          "text": [
            "torch.Size([10, 282]) <class 'torch.Tensor'>\n",
            "torch.Size([10, 392]) <class 'torch.Tensor'>\n",
            "torch.Size([10, 310]) <class 'torch.Tensor'>\n",
            "torch.Size([10, 866]) <class 'torch.Tensor'>\n",
            "torch.Size([10, 263]) <class 'torch.Tensor'>\n",
            "torch.Size([10, 290]) <class 'torch.Tensor'>\n",
            "torch.Size([10, 314]) <class 'torch.Tensor'>\n",
            "torch.Size([10, 583]) <class 'torch.Tensor'>\n",
            "torch.Size([10, 589]) <class 'torch.Tensor'>\n",
            "torch.Size([10, 363]) <class 'torch.Tensor'>\n",
            "torch.Size([10, 189]) <class 'torch.Tensor'>\n",
            "tensor([[   0,    2,    9,  ...,    3,    3,    3],\n",
            "        [   0,   11,  751,  ...,    3,    3,    3],\n",
            "        [   0,    2,  133,  ...,    3,    3,    3],\n",
            "        ...,\n",
            "        [   0,   10, 4991,  ...,    3,    3,    3],\n",
            "        [   0,    2,  156,  ...,    3,    3,    3],\n",
            "        [   0,   15, 3624,  ...,   13,    5,    1]])\n",
            "tensor([0, 0, 1, 0, 0, 1, 1, 1, 1, 1])\n"
          ]
        }
      ],
      "source": [
        "for i, (X, t) in enumerate(train_dataloader):\n",
        "    print(X.shape, type(t))\n",
        "    if i >= 10:\n",
        "        break\n",
        "\n",
        "print(X)\n",
        "print(t)"
      ]
    },
    {
      "cell_type": "markdown",
      "id": "2a02e457",
      "metadata": {
        "id": "2a02e457"
      },
      "source": [
        "## Part 2. Model\n",
        "\n",
        "We will use a recurrent neural network model to classify positive vs negative\n",
        "sentiments. Our RNN model will have three components that are typical in a\n",
        "sequence classification model:\n",
        "\n",
        "- An *embedding layer*, which will map each word index (akin to a one-hot embedding)\n",
        "  into a low-dimensional vector.\n",
        "- A *recurrent layer*, which performs the recurrent neural network computation.\n",
        "  The input to this layer is the low-dimensional embedding vectors\n",
        "  for each word in the sequence.\n",
        "- A *dropout layer* with 0.2 dropout probobility\n",
        "- A *fully connected layer*, which computes the final binary classification using\n",
        "  features computed from the recurrent layer. Think about how you can combine the per-timestep\n",
        "  output of the RNN into one final prediction.\n",
        "\n",
        "\n"
      ]
    },
    {
      "cell_type": "code",
      "execution_count": null,
      "id": "17b70735",
      "metadata": {
        "id": "17b70735"
      },
      "outputs": [],
      "source": [
        "import torch.nn as nn\n",
        "\n",
        "class MyRNN(nn.Module):\n",
        "    def __init__(self, vocab_size, emb_size, hidden_size, num_classes):\n",
        "        super(MyRNN, self).__init__()\n",
        "        self.vocab_size = vocab_size\n",
        "        self.emb_size = emb_size\n",
        "        self.hidden_size = hidden_size\n",
        "        self.num_classes = num_classes\n",
        "        self.emb = nn.Embedding(vocab_size, emb_size)\n",
        "        self.rnn = nn.RNN(input_size=emb_size,\n",
        "                          hidden_size=hidden_size,\n",
        "                          batch_first=True)\n",
        "        self.fc = nn.Linear(hidden_size * 2, num_classes)\n",
        "\n",
        "    def forward(self, X):\n",
        "        X = self.emb(X)\n",
        "        output, hidden_state = self.rnn(X)\n",
        "        output = torch.cat([torch.amax(output, dim=1), output.mean(dim=1)],\n",
        "                           dim=-1)\n",
        "        output = self.fc(output)\n",
        "        return output\n",
        "\n",
        "\n",
        "class MyLSTM(nn.Module):\n",
        "    def __init__(self, vocab_size, emb_size, hidden_size, num_classes):\n",
        "        super(MyLSTM, self).__init__()\n",
        "        self.emb = nn.Embedding(vocab_size, emb_size)\n",
        "        self.lstm = nn.LSTM(emb_size, hidden_size, batch_first=True)\n",
        "        self.dropout = nn.Dropout(p=0.2) # p is prob of a element to be zeroed\n",
        "        self.fc = nn.Linear(hidden_size * 2, num_classes)\n",
        "\n",
        "    def forward(self, X):\n",
        "        X = self.emb(X)\n",
        "        output, (hidden, cell) = self.lstm(X)\n",
        "        output = self.dropout(output)\n",
        "        output = torch.cat([torch.amax(output, dim=1), output.mean(dim=1)],\n",
        "                           dim=-1)\n",
        "        output = self.fc(output)\n",
        "        return output"
      ]
    },
    {
      "cell_type": "code",
      "execution_count": null,
      "id": "47dfea50",
      "metadata": {
        "id": "47dfea50",
        "colab": {
          "base_uri": "https://localhost:8080/"
        },
        "outputId": "da158434-5dd6-475a-8d77-68fcb0a4b8bd"
      },
      "outputs": [
        {
          "output_type": "execute_result",
          "data": {
            "text/plain": [
              "0.47052947052947053"
            ]
          },
          "metadata": {},
          "execution_count": 23
        }
      ],
      "source": [
        "def accuracy(model, dataset, max=1000):\n",
        "    \"\"\"\n",
        "    Estimate the accuracy of `model` over the `dataset`.\n",
        "    We will take the **most probable class**\n",
        "    as the class predicted by the model.\n",
        "\n",
        "    Parameters:\n",
        "        `model`   - An object of class nn.Module\n",
        "        `dataset` - A dataset of the same type as `train_data`.\n",
        "        `max`     - The max number of samples to use to estimate\n",
        "                    model accuracy\n",
        "\n",
        "    Returns: a floating-point value between 0 and 1.\n",
        "    \"\"\"\n",
        "\n",
        "    correct, total = 0, 0\n",
        "    dataloader = DataLoader(dataset,\n",
        "                            batch_size=1,  # use batch size 1 to prevent padding\n",
        "                            collate_fn=collate_batch)\n",
        "    for i, (x, t) in enumerate(dataloader):\n",
        "        z = model(x)\n",
        "        y = torch.argmax(z, axis=1)\n",
        "        correct += int(torch.sum(t == y))\n",
        "        total   += 1\n",
        "        if i >= max:\n",
        "            break\n",
        "    return correct / total\n",
        "\n",
        "\n",
        "model = MyRNN(vocab_size=len(eng_vocab)+len(fre_vocab), emb_size=128,\n",
        "              hidden_size=64, num_classes=2)\n",
        "accuracy(model, combined_train_indices) # should be close to half"
      ]
    },
    {
      "cell_type": "markdown",
      "id": "bab06cfd",
      "metadata": {
        "id": "bab06cfd"
      },
      "source": [
        "## Part 3. Training\n",
        "\n"
      ]
    },
    {
      "cell_type": "code",
      "execution_count": null,
      "id": "64f22931",
      "metadata": {
        "id": "64f22931"
      },
      "outputs": [],
      "source": [
        "import torch.optim as optim\n",
        "import matplotlib.pyplot as plt\n",
        "\n",
        "def train_model(model,                # an instance of MLPModel\n",
        "                train_data,           # training data\n",
        "                val_data,             # validation data\n",
        "                learning_rate=0.001,\n",
        "                batch_size=100,\n",
        "                num_epochs=10,\n",
        "                plot_every=50,        # how often (in # iterations) to track metrics\n",
        "                plot=True):           # whether to plot the training curve\n",
        "    train_loader = torch.utils.data.DataLoader(train_data,\n",
        "                                               batch_size=batch_size,\n",
        "                                               collate_fn=collate_batch,\n",
        "                                               shuffle=True) # reshuffle minibatches every epoch\n",
        "    criterion = nn.CrossEntropyLoss()\n",
        "    optimizer = optim.Adam(model.parameters(), lr=learning_rate)\n",
        "\n",
        "    # these lists will be used to track the training progress\n",
        "    # and to plot the training curve\n",
        "    iters, train_loss, train_acc, val_acc = [], [], [], []\n",
        "    iter_count = 0 # count the number of iterations that has passed\n",
        "\n",
        "    try:\n",
        "        for e in range(num_epochs):\n",
        "            for i, (texts, labels) in enumerate(train_loader):\n",
        "                z = model(texts)\n",
        "                loss = criterion(z, labels)\n",
        "                loss.backward() # propagate the gradients\n",
        "                optimizer.step() # update the parameters\n",
        "                optimizer.zero_grad() # clean up accumualted gradients\n",
        "\n",
        "                iter_count += 1\n",
        "                if iter_count % plot_every == 0:\n",
        "                    iters.append(iter_count)\n",
        "                    ta = accuracy(model, train_data)\n",
        "                    va = accuracy(model, val_data)\n",
        "                    train_loss.append(float(loss))\n",
        "                    train_acc.append(ta)\n",
        "                    val_acc.append(va)\n",
        "                    print(iter_count, \"Loss:\", float(loss), \"Train Acc:\", ta, \"Val Acc:\", va)\n",
        "    finally:\n",
        "        # This try/finally block is to display the training curve\n",
        "        # even if training is interrupted\n",
        "        if plot:\n",
        "            plt.figure()\n",
        "            plt.plot(iters[:len(train_loss)], train_loss)\n",
        "            plt.title(\"Loss over iterations\")\n",
        "            plt.xlabel(\"Iterations\")\n",
        "            plt.ylabel(\"Loss\")\n",
        "\n",
        "            plt.figure()\n",
        "            plt.plot(iters[:len(train_acc)], train_acc)\n",
        "            plt.plot(iters[:len(val_acc)], val_acc)\n",
        "            plt.title(\"Accuracy over iterations\")\n",
        "            plt.xlabel(\"Iterations\")\n",
        "            plt.ylabel(\"Accuracy\")\n",
        "            plt.legend([\"Train\", \"Validation\"])"
      ]
    },
    {
      "cell_type": "code",
      "execution_count": null,
      "metadata": {
        "colab": {
          "base_uri": "https://localhost:8080/",
          "height": 1000
        },
        "outputId": "9886fb67-ab97-42f9-9c5f-9a50c2e3fca4",
        "id": "Dg6-v-p44QnE"
      },
      "outputs": [
        {
          "output_type": "stream",
          "name": "stdout",
          "text": [
            "100 Loss: 0.6722400188446045 Train Acc: 0.6013986013986014 Val Acc: 0.593\n",
            "200 Loss: 0.6283683776855469 Train Acc: 0.8081918081918081 Val Acc: 0.735\n",
            "300 Loss: 0.5548354983329773 Train Acc: 0.8381618381618382 Val Acc: 0.727\n",
            "400 Loss: 0.43703335523605347 Train Acc: 0.8691308691308691 Val Acc: 0.776\n",
            "500 Loss: 0.2601245939731598 Train Acc: 0.9000999000999002 Val Acc: 0.77\n",
            "600 Loss: 0.2684743106365204 Train Acc: 0.965034965034965 Val Acc: 0.816\n",
            "700 Loss: 0.1223570853471756 Train Acc: 0.932067932067932 Val Acc: 0.77\n",
            "800 Loss: 0.07413145899772644 Train Acc: 0.973026973026973 Val Acc: 0.792\n",
            "900 Loss: 0.07435891032218933 Train Acc: 0.997002997002997 Val Acc: 0.819\n",
            "1000 Loss: 0.026211662217974663 Train Acc: 0.999000999000999 Val Acc: 0.823\n",
            "1100 Loss: 0.021647073328495026 Train Acc: 0.997002997002997 Val Acc: 0.813\n",
            "1200 Loss: 0.004017317201942205 Train Acc: 1.0 Val Acc: 0.813\n",
            "1300 Loss: 0.037065647542476654 Train Acc: 0.999000999000999 Val Acc: 0.815\n",
            "1400 Loss: 0.009159191511571407 Train Acc: 1.0 Val Acc: 0.805\n",
            "1500 Loss: 0.003335012588649988 Train Acc: 0.999000999000999 Val Acc: 0.796\n",
            "1600 Loss: 0.01297815516591072 Train Acc: 0.999000999000999 Val Acc: 0.798\n"
          ]
        },
        {
          "output_type": "display_data",
          "data": {
            "text/plain": [
              "<Figure size 640x480 with 1 Axes>"
            ],
            "image/png": "[encoded data removed]"
          },
          "metadata": {}
        },
        {
          "output_type": "display_data",
          "data": {
            "text/plain": [
              "<Figure size 640x480 with 1 Axes>"
            ],
            "image/png": "[encoded data removed]"
          },
          "metadata": {}
        }
      ],
      "source": [
        "# RNNmodel = MyRNN(vocab_size=len(eng_vocab)+len(fre_vocab),\n",
        "#               emb_size=300,\n",
        "#               hidden_size=64,\n",
        "#               num_classes=2)\n",
        "# train_model(RNNmodel, combined_train_indices, combined_val_indices,\n",
        "#             learning_rate=0.01, num_epochs=6, batch_size=50, plot_every=100)\n",
        "\n",
        "\n",
        "LSTM_model = MyLSTM(vocab_size=len(eng_vocab)+len(fre_vocab),\n",
        "                    emb_size=300, hidden_size=64, num_classes=2)\n",
        "train_model(LSTM_model, combined_train_indices, combined_val_indices,\n",
        "            learning_rate=0.001, num_epochs=10, batch_size=50, plot_every=100)"
      ],
      "id": "Dg6-v-p44QnE"
    },
    {
      "cell_type": "markdown",
      "source": [
        "Test performance"
      ],
      "metadata": {
        "id": "8e8RlUzr8g2x"
      },
      "id": "8e8RlUzr8g2x"
    },
    {
      "cell_type": "code",
      "source": [
        "# print(f'English: {accuracy(RNNmodel, eng_test_data_indices)}')\n",
        "# print(f'French: {accuracy(RNNmodel, fre_test_data_indices)}')"
      ],
      "metadata": {
        "id": "nf4MDWVt8k3l"
      },
      "id": "nf4MDWVt8k3l",
      "execution_count": null,
      "outputs": []
    },
    {
      "cell_type": "code",
      "source": [
        "print(f'English Accuracy: {accuracy(LSTM_model, eng_test_data_indices)}')\n",
        "print(f'French Accuracy: {accuracy(LSTM_model, fre_test_data_indices)}')"
      ],
      "metadata": {
        "colab": {
          "base_uri": "https://localhost:8080/"
        },
        "id": "5bCphp9aCr7d",
        "outputId": "c0a791cb-52fc-4144-9893-ea28552c6afc"
      },
      "id": "5bCphp9aCr7d",
      "execution_count": null,
      "outputs": [
        {
          "output_type": "stream",
          "name": "stdout",
          "text": [
            "English Accuracy: 0.772\n",
            "French Accuracy: 0.806\n"
          ]
        }
      ]
    }
  ],
  "metadata": {
    "kernelspec": {
      "display_name": "Python 3 (ipykernel)",
      "language": "python",
      "name": "python3"
    },
    "language_info": {
      "codemirror_mode": {
        "name": "ipython",
        "version": 3
      },
      "file_extension": ".py",
      "mimetype": "text/x-python",
      "name": "python",
      "nbconvert_exporter": "python",
      "pygments_lexer": "ipython3",
      "version": "3.11.8"
    },
    "colab": {
      "provenance": []
    },
    "widgets": {
      "application/vnd.jupyter.widget-state+json": {
        "b55b65f351ed4861bf0a708910c6d0ce": {
          "model_module": "@jupyter-widgets/controls",
          "model_name": "HBoxModel",
          "model_module_version": "1.5.0",
          "state": {
            "_dom_classes": [],
            "_model_module": "@jupyter-widgets/controls",
            "_model_module_version": "1.5.0",
            "_model_name": "HBoxModel",
            "_view_count": null,
            "_view_module": "@jupyter-widgets/controls",
            "_view_module_version": "1.5.0",
            "_view_name": "HBoxView",
            "box_style": "",
            "children": [
              "IPY_MODEL_62730bf73a21484fa18b78f89cc022eb",
              "IPY_MODEL_cc48da2a33904c9a97ae4eb2adfa5b9e",
              "IPY_MODEL_9599fa26e71742a488bd06f285e4227c"
            ],
            "layout": "IPY_MODEL_2118a436075c43f18f9124c26437cb93"
          }
        },
        "62730bf73a21484fa18b78f89cc022eb": {
          "model_module": "@jupyter-widgets/controls",
          "model_name": "HTMLModel",
          "model_module_version": "1.5.0",
          "state": {
            "_dom_classes": [],
            "_model_module": "@jupyter-widgets/controls",
            "_model_module_version": "1.5.0",
            "_model_name": "HTMLModel",
            "_view_count": null,
            "_view_module": "@jupyter-widgets/controls",
            "_view_module_version": "1.5.0",
            "_view_name": "HTMLView",
            "description": "",
            "description_tooltip": null,
            "layout": "IPY_MODEL_5c1b41cc549c4605aafa91ac24331b53",
            "placeholder": "​",
            "style": "IPY_MODEL_69a26bc093024d08bc11bacaba169db3",
            "value": "Generating train split: "
          }
        },
        "cc48da2a33904c9a97ae4eb2adfa5b9e": {
          "model_module": "@jupyter-widgets/controls",
          "model_name": "FloatProgressModel",
          "model_module_version": "1.5.0",
          "state": {
            "_dom_classes": [],
            "_model_module": "@jupyter-widgets/controls",
            "_model_module_version": "1.5.0",
            "_model_name": "FloatProgressModel",
            "_view_count": null,
            "_view_module": "@jupyter-widgets/controls",
            "_view_module_version": "1.5.0",
            "_view_name": "ProgressView",
            "bar_style": "success",
            "description": "",
            "description_tooltip": null,
            "layout": "IPY_MODEL_c1d1f485f0034e84a776faae5df4cc8d",
            "max": 1,
            "min": 0,
            "orientation": "horizontal",
            "style": "IPY_MODEL_9f966ecbadf2496485946bf9251b8051",
            "value": 1
          }
        },
        "9599fa26e71742a488bd06f285e4227c": {
          "model_module": "@jupyter-widgets/controls",
          "model_name": "HTMLModel",
          "model_module_version": "1.5.0",
          "state": {
            "_dom_classes": [],
            "_model_module": "@jupyter-widgets/controls",
            "_model_module_version": "1.5.0",
            "_model_name": "HTMLModel",
            "_view_count": null,
            "_view_module": "@jupyter-widgets/controls",
            "_view_module_version": "1.5.0",
            "_view_name": "HTMLView",
            "description": "",
            "description_tooltip": null,
            "layout": "IPY_MODEL_f66d00dd8d9742ea9fd5399734afab3d",
            "placeholder": "​",
            "style": "IPY_MODEL_554fcc9c44694356a430b16f316dd4f7",
            "value": " 50000/0 [00:01&lt;00:00, 45700.28 examples/s]"
          }
        },
        "2118a436075c43f18f9124c26437cb93": {
          "model_module": "@jupyter-widgets/base",
          "model_name": "LayoutModel",
          "model_module_version": "1.2.0",
          "state": {
            "_model_module": "@jupyter-widgets/base",
            "_model_module_version": "1.2.0",
            "_model_name": "LayoutModel",
            "_view_count": null,
            "_view_module": "@jupyter-widgets/base",
            "_view_module_version": "1.2.0",
            "_view_name": "LayoutView",
            "align_content": null,
            "align_items": null,
            "align_self": null,
            "border": null,
            "bottom": null,
            "display": null,
            "flex": null,
            "flex_flow": null,
            "grid_area": null,
            "grid_auto_columns": null,
            "grid_auto_flow": null,
            "grid_auto_rows": null,
            "grid_column": null,
            "grid_gap": null,
            "grid_row": null,
            "grid_template_areas": null,
            "grid_template_columns": null,
            "grid_template_rows": null,
            "height": null,
            "justify_content": null,
            "justify_items": null,
            "left": null,
            "margin": null,
            "max_height": null,
            "max_width": null,
            "min_height": null,
            "min_width": null,
            "object_fit": null,
            "object_position": null,
            "order": null,
            "overflow": null,
            "overflow_x": null,
            "overflow_y": null,
            "padding": null,
            "right": null,
            "top": null,
            "visibility": null,
            "width": null
          }
        },
        "5c1b41cc549c4605aafa91ac24331b53": {
          "model_module": "@jupyter-widgets/base",
          "model_name": "LayoutModel",
          "model_module_version": "1.2.0",
          "state": {
            "_model_module": "@jupyter-widgets/base",
            "_model_module_version": "1.2.0",
            "_model_name": "LayoutModel",
            "_view_count": null,
            "_view_module": "@jupyter-widgets/base",
            "_view_module_version": "1.2.0",
            "_view_name": "LayoutView",
            "align_content": null,
            "align_items": null,
            "align_self": null,
            "border": null,
            "bottom": null,
            "display": null,
            "flex": null,
            "flex_flow": null,
            "grid_area": null,
            "grid_auto_columns": null,
            "grid_auto_flow": null,
            "grid_auto_rows": null,
            "grid_column": null,
            "grid_gap": null,
            "grid_row": null,
            "grid_template_areas": null,
            "grid_template_columns": null,
            "grid_template_rows": null,
            "height": null,
            "justify_content": null,
            "justify_items": null,
            "left": null,
            "margin": null,
            "max_height": null,
            "max_width": null,
            "min_height": null,
            "min_width": null,
            "object_fit": null,
            "object_position": null,
            "order": null,
            "overflow": null,
            "overflow_x": null,
            "overflow_y": null,
            "padding": null,
            "right": null,
            "top": null,
            "visibility": null,
            "width": null
          }
        },
        "69a26bc093024d08bc11bacaba169db3": {
          "model_module": "@jupyter-widgets/controls",
          "model_name": "DescriptionStyleModel",
          "model_module_version": "1.5.0",
          "state": {
            "_model_module": "@jupyter-widgets/controls",
            "_model_module_version": "1.5.0",
            "_model_name": "DescriptionStyleModel",
            "_view_count": null,
            "_view_module": "@jupyter-widgets/base",
            "_view_module_version": "1.2.0",
            "_view_name": "StyleView",
            "description_width": ""
          }
        },
        "c1d1f485f0034e84a776faae5df4cc8d": {
          "model_module": "@jupyter-widgets/base",
          "model_name": "LayoutModel",
          "model_module_version": "1.2.0",
          "state": {
            "_model_module": "@jupyter-widgets/base",
            "_model_module_version": "1.2.0",
            "_model_name": "LayoutModel",
            "_view_count": null,
            "_view_module": "@jupyter-widgets/base",
            "_view_module_version": "1.2.0",
            "_view_name": "LayoutView",
            "align_content": null,
            "align_items": null,
            "align_self": null,
            "border": null,
            "bottom": null,
            "display": null,
            "flex": null,
            "flex_flow": null,
            "grid_area": null,
            "grid_auto_columns": null,
            "grid_auto_flow": null,
            "grid_auto_rows": null,
            "grid_column": null,
            "grid_gap": null,
            "grid_row": null,
            "grid_template_areas": null,
            "grid_template_columns": null,
            "grid_template_rows": null,
            "height": null,
            "justify_content": null,
            "justify_items": null,
            "left": null,
            "margin": null,
            "max_height": null,
            "max_width": null,
            "min_height": null,
            "min_width": null,
            "object_fit": null,
            "object_position": null,
            "order": null,
            "overflow": null,
            "overflow_x": null,
            "overflow_y": null,
            "padding": null,
            "right": null,
            "top": null,
            "visibility": null,
            "width": "20px"
          }
        },
        "9f966ecbadf2496485946bf9251b8051": {
          "model_module": "@jupyter-widgets/controls",
          "model_name": "ProgressStyleModel",
          "model_module_version": "1.5.0",
          "state": {
            "_model_module": "@jupyter-widgets/controls",
            "_model_module_version": "1.5.0",
            "_model_name": "ProgressStyleModel",
            "_view_count": null,
            "_view_module": "@jupyter-widgets/base",
            "_view_module_version": "1.2.0",
            "_view_name": "StyleView",
            "bar_color": null,
            "description_width": ""
          }
        },
        "f66d00dd8d9742ea9fd5399734afab3d": {
          "model_module": "@jupyter-widgets/base",
          "model_name": "LayoutModel",
          "model_module_version": "1.2.0",
          "state": {
            "_model_module": "@jupyter-widgets/base",
            "_model_module_version": "1.2.0",
            "_model_name": "LayoutModel",
            "_view_count": null,
            "_view_module": "@jupyter-widgets/base",
            "_view_module_version": "1.2.0",
            "_view_name": "LayoutView",
            "align_content": null,
            "align_items": null,
            "align_self": null,
            "border": null,
            "bottom": null,
            "display": null,
            "flex": null,
            "flex_flow": null,
            "grid_area": null,
            "grid_auto_columns": null,
            "grid_auto_flow": null,
            "grid_auto_rows": null,
            "grid_column": null,
            "grid_gap": null,
            "grid_row": null,
            "grid_template_areas": null,
            "grid_template_columns": null,
            "grid_template_rows": null,
            "height": null,
            "justify_content": null,
            "justify_items": null,
            "left": null,
            "margin": null,
            "max_height": null,
            "max_width": null,
            "min_height": null,
            "min_width": null,
            "object_fit": null,
            "object_position": null,
            "order": null,
            "overflow": null,
            "overflow_x": null,
            "overflow_y": null,
            "padding": null,
            "right": null,
            "top": null,
            "visibility": null,
            "width": null
          }
        },
        "554fcc9c44694356a430b16f316dd4f7": {
          "model_module": "@jupyter-widgets/controls",
          "model_name": "DescriptionStyleModel",
          "model_module_version": "1.5.0",
          "state": {
            "_model_module": "@jupyter-widgets/controls",
            "_model_module_version": "1.5.0",
            "_model_name": "DescriptionStyleModel",
            "_view_count": null,
            "_view_module": "@jupyter-widgets/base",
            "_view_module_version": "1.2.0",
            "_view_name": "StyleView",
            "description_width": ""
          }
        },
        "1791f80f757545b99ce02a19aee04868": {
          "model_module": "@jupyter-widgets/controls",
          "model_name": "HBoxModel",
          "model_module_version": "1.5.0",
          "state": {
            "_dom_classes": [],
            "_model_module": "@jupyter-widgets/controls",
            "_model_module_version": "1.5.0",
            "_model_name": "HBoxModel",
            "_view_count": null,
            "_view_module": "@jupyter-widgets/controls",
            "_view_module_version": "1.5.0",
            "_view_name": "HBoxView",
            "box_style": "",
            "children": [
              "IPY_MODEL_801af7fc2f5147288e0d52898ad79d87",
              "IPY_MODEL_560694da63b2449397b04b1684c341e1",
              "IPY_MODEL_695884813a764028ac4617b7f95ecff1"
            ],
            "layout": "IPY_MODEL_e88fd09333a94e93b6b798b66dedaed5"
          }
        },
        "801af7fc2f5147288e0d52898ad79d87": {
          "model_module": "@jupyter-widgets/controls",
          "model_name": "HTMLModel",
          "model_module_version": "1.5.0",
          "state": {
            "_dom_classes": [],
            "_model_module": "@jupyter-widgets/controls",
            "_model_module_version": "1.5.0",
            "_model_name": "HTMLModel",
            "_view_count": null,
            "_view_module": "@jupyter-widgets/controls",
            "_view_module_version": "1.5.0",
            "_view_name": "HTMLView",
            "description": "",
            "description_tooltip": null,
            "layout": "IPY_MODEL_f3675a79559348d58e36a86923c9f764",
            "placeholder": "​",
            "style": "IPY_MODEL_818cc83d98b148aeb219173aaf56ec47",
            "value": "Generating train split: "
          }
        },
        "560694da63b2449397b04b1684c341e1": {
          "model_module": "@jupyter-widgets/controls",
          "model_name": "FloatProgressModel",
          "model_module_version": "1.5.0",
          "state": {
            "_dom_classes": [],
            "_model_module": "@jupyter-widgets/controls",
            "_model_module_version": "1.5.0",
            "_model_name": "FloatProgressModel",
            "_view_count": null,
            "_view_module": "@jupyter-widgets/controls",
            "_view_module_version": "1.5.0",
            "_view_name": "ProgressView",
            "bar_style": "success",
            "description": "",
            "description_tooltip": null,
            "layout": "IPY_MODEL_d55913d14d49425dadeb1d391dd4147c",
            "max": 1,
            "min": 0,
            "orientation": "horizontal",
            "style": "IPY_MODEL_f97b974fa684498a8688a436ac6dceec",
            "value": 1
          }
        },
        "695884813a764028ac4617b7f95ecff1": {
          "model_module": "@jupyter-widgets/controls",
          "model_name": "HTMLModel",
          "model_module_version": "1.5.0",
          "state": {
            "_dom_classes": [],
            "_model_module": "@jupyter-widgets/controls",
            "_model_module_version": "1.5.0",
            "_model_name": "HTMLModel",
            "_view_count": null,
            "_view_module": "@jupyter-widgets/controls",
            "_view_module_version": "1.5.0",
            "_view_name": "HTMLView",
            "description": "",
            "description_tooltip": null,
            "layout": "IPY_MODEL_30afd27158c34dc08752125061a8549b",
            "placeholder": "​",
            "style": "IPY_MODEL_41c27334d1214900b35702e42e8135c4",
            "value": " 160000/0 [00:03&lt;00:00, 27089.29 examples/s]"
          }
        },
        "e88fd09333a94e93b6b798b66dedaed5": {
          "model_module": "@jupyter-widgets/base",
          "model_name": "LayoutModel",
          "model_module_version": "1.2.0",
          "state": {
            "_model_module": "@jupyter-widgets/base",
            "_model_module_version": "1.2.0",
            "_model_name": "LayoutModel",
            "_view_count": null,
            "_view_module": "@jupyter-widgets/base",
            "_view_module_version": "1.2.0",
            "_view_name": "LayoutView",
            "align_content": null,
            "align_items": null,
            "align_self": null,
            "border": null,
            "bottom": null,
            "display": null,
            "flex": null,
            "flex_flow": null,
            "grid_area": null,
            "grid_auto_columns": null,
            "grid_auto_flow": null,
            "grid_auto_rows": null,
            "grid_column": null,
            "grid_gap": null,
            "grid_row": null,
            "grid_template_areas": null,
            "grid_template_columns": null,
            "grid_template_rows": null,
            "height": null,
            "justify_content": null,
            "justify_items": null,
            "left": null,
            "margin": null,
            "max_height": null,
            "max_width": null,
            "min_height": null,
            "min_width": null,
            "object_fit": null,
            "object_position": null,
            "order": null,
            "overflow": null,
            "overflow_x": null,
            "overflow_y": null,
            "padding": null,
            "right": null,
            "top": null,
            "visibility": null,
            "width": null
          }
        },
        "f3675a79559348d58e36a86923c9f764": {
          "model_module": "@jupyter-widgets/base",
          "model_name": "LayoutModel",
          "model_module_version": "1.2.0",
          "state": {
            "_model_module": "@jupyter-widgets/base",
            "_model_module_version": "1.2.0",
            "_model_name": "LayoutModel",
            "_view_count": null,
            "_view_module": "@jupyter-widgets/base",
            "_view_module_version": "1.2.0",
            "_view_name": "LayoutView",
            "align_content": null,
            "align_items": null,
            "align_self": null,
            "border": null,
            "bottom": null,
            "display": null,
            "flex": null,
            "flex_flow": null,
            "grid_area": null,
            "grid_auto_columns": null,
            "grid_auto_flow": null,
            "grid_auto_rows": null,
            "grid_column": null,
            "grid_gap": null,
            "grid_row": null,
            "grid_template_areas": null,
            "grid_template_columns": null,
            "grid_template_rows": null,
            "height": null,
            "justify_content": null,
            "justify_items": null,
            "left": null,
            "margin": null,
            "max_height": null,
            "max_width": null,
            "min_height": null,
            "min_width": null,
            "object_fit": null,
            "object_position": null,
            "order": null,
            "overflow": null,
            "overflow_x": null,
            "overflow_y": null,
            "padding": null,
            "right": null,
            "top": null,
            "visibility": null,
            "width": null
          }
        },
        "818cc83d98b148aeb219173aaf56ec47": {
          "model_module": "@jupyter-widgets/controls",
          "model_name": "DescriptionStyleModel",
          "model_module_version": "1.5.0",
          "state": {
            "_model_module": "@jupyter-widgets/controls",
            "_model_module_version": "1.5.0",
            "_model_name": "DescriptionStyleModel",
            "_view_count": null,
            "_view_module": "@jupyter-widgets/base",
            "_view_module_version": "1.2.0",
            "_view_name": "StyleView",
            "description_width": ""
          }
        },
        "d55913d14d49425dadeb1d391dd4147c": {
          "model_module": "@jupyter-widgets/base",
          "model_name": "LayoutModel",
          "model_module_version": "1.2.0",
          "state": {
            "_model_module": "@jupyter-widgets/base",
            "_model_module_version": "1.2.0",
            "_model_name": "LayoutModel",
            "_view_count": null,
            "_view_module": "@jupyter-widgets/base",
            "_view_module_version": "1.2.0",
            "_view_name": "LayoutView",
            "align_content": null,
            "align_items": null,
            "align_self": null,
            "border": null,
            "bottom": null,
            "display": null,
            "flex": null,
            "flex_flow": null,
            "grid_area": null,
            "grid_auto_columns": null,
            "grid_auto_flow": null,
            "grid_auto_rows": null,
            "grid_column": null,
            "grid_gap": null,
            "grid_row": null,
            "grid_template_areas": null,
            "grid_template_columns": null,
            "grid_template_rows": null,
            "height": null,
            "justify_content": null,
            "justify_items": null,
            "left": null,
            "margin": null,
            "max_height": null,
            "max_width": null,
            "min_height": null,
            "min_width": null,
            "object_fit": null,
            "object_position": null,
            "order": null,
            "overflow": null,
            "overflow_x": null,
            "overflow_y": null,
            "padding": null,
            "right": null,
            "top": null,
            "visibility": null,
            "width": "20px"
          }
        },
        "f97b974fa684498a8688a436ac6dceec": {
          "model_module": "@jupyter-widgets/controls",
          "model_name": "ProgressStyleModel",
          "model_module_version": "1.5.0",
          "state": {
            "_model_module": "@jupyter-widgets/controls",
            "_model_module_version": "1.5.0",
            "_model_name": "ProgressStyleModel",
            "_view_count": null,
            "_view_module": "@jupyter-widgets/base",
            "_view_module_version": "1.2.0",
            "_view_name": "StyleView",
            "bar_color": null,
            "description_width": ""
          }
        },
        "30afd27158c34dc08752125061a8549b": {
          "model_module": "@jupyter-widgets/base",
          "model_name": "LayoutModel",
          "model_module_version": "1.2.0",
          "state": {
            "_model_module": "@jupyter-widgets/base",
            "_model_module_version": "1.2.0",
            "_model_name": "LayoutModel",
            "_view_count": null,
            "_view_module": "@jupyter-widgets/base",
            "_view_module_version": "1.2.0",
            "_view_name": "LayoutView",
            "align_content": null,
            "align_items": null,
            "align_self": null,
            "border": null,
            "bottom": null,
            "display": null,
            "flex": null,
            "flex_flow": null,
            "grid_area": null,
            "grid_auto_columns": null,
            "grid_auto_flow": null,
            "grid_auto_rows": null,
            "grid_column": null,
            "grid_gap": null,
            "grid_row": null,
            "grid_template_areas": null,
            "grid_template_columns": null,
            "grid_template_rows": null,
            "height": null,
            "justify_content": null,
            "justify_items": null,
            "left": null,
            "margin": null,
            "max_height": null,
            "max_width": null,
            "min_height": null,
            "min_width": null,
            "object_fit": null,
            "object_position": null,
            "order": null,
            "overflow": null,
            "overflow_x": null,
            "overflow_y": null,
            "padding": null,
            "right": null,
            "top": null,
            "visibility": null,
            "width": null
          }
        },
        "41c27334d1214900b35702e42e8135c4": {
          "model_module": "@jupyter-widgets/controls",
          "model_name": "DescriptionStyleModel",
          "model_module_version": "1.5.0",
          "state": {
            "_model_module": "@jupyter-widgets/controls",
            "_model_module_version": "1.5.0",
            "_model_name": "DescriptionStyleModel",
            "_view_count": null,
            "_view_module": "@jupyter-widgets/base",
            "_view_module_version": "1.2.0",
            "_view_name": "StyleView",
            "description_width": ""
          }
        },
        "76f7f97e318442f3a87d6a18250f695f": {
          "model_module": "@jupyter-widgets/controls",
          "model_name": "HBoxModel",
          "model_module_version": "1.5.0",
          "state": {
            "_dom_classes": [],
            "_model_module": "@jupyter-widgets/controls",
            "_model_module_version": "1.5.0",
            "_model_name": "HBoxModel",
            "_view_count": null,
            "_view_module": "@jupyter-widgets/controls",
            "_view_module_version": "1.5.0",
            "_view_name": "HBoxView",
            "box_style": "",
            "children": [
              "IPY_MODEL_22a64d92ca034586ac3cc50705af8a79",
              "IPY_MODEL_e44f8d5b246949fe974cd6e116c42503",
              "IPY_MODEL_aca639e6368642a3897bff090360d853"
            ],
            "layout": "IPY_MODEL_1d0df56e5bab457983af41cfb4fb772b"
          }
        },
        "22a64d92ca034586ac3cc50705af8a79": {
          "model_module": "@jupyter-widgets/controls",
          "model_name": "HTMLModel",
          "model_module_version": "1.5.0",
          "state": {
            "_dom_classes": [],
            "_model_module": "@jupyter-widgets/controls",
            "_model_module_version": "1.5.0",
            "_model_name": "HTMLModel",
            "_view_count": null,
            "_view_module": "@jupyter-widgets/controls",
            "_view_module_version": "1.5.0",
            "_view_name": "HTMLView",
            "description": "",
            "description_tooltip": null,
            "layout": "IPY_MODEL_1fb9170c77844ed685c8f6259f542781",
            "placeholder": "​",
            "style": "IPY_MODEL_cb3c282b2ffe450cb5f6a6b948021b08",
            "value": "Map: 100%"
          }
        },
        "e44f8d5b246949fe974cd6e116c42503": {
          "model_module": "@jupyter-widgets/controls",
          "model_name": "FloatProgressModel",
          "model_module_version": "1.5.0",
          "state": {
            "_dom_classes": [],
            "_model_module": "@jupyter-widgets/controls",
            "_model_module_version": "1.5.0",
            "_model_name": "FloatProgressModel",
            "_view_count": null,
            "_view_module": "@jupyter-widgets/controls",
            "_view_module_version": "1.5.0",
            "_view_name": "ProgressView",
            "bar_style": "success",
            "description": "",
            "description_tooltip": null,
            "layout": "IPY_MODEL_1f1a36b633c2439e9587a4657959c852",
            "max": 5000,
            "min": 0,
            "orientation": "horizontal",
            "style": "IPY_MODEL_e57f40d6eadc44f6bff58c4c946965f8",
            "value": 5000
          }
        },
        "aca639e6368642a3897bff090360d853": {
          "model_module": "@jupyter-widgets/controls",
          "model_name": "HTMLModel",
          "model_module_version": "1.5.0",
          "state": {
            "_dom_classes": [],
            "_model_module": "@jupyter-widgets/controls",
            "_model_module_version": "1.5.0",
            "_model_name": "HTMLModel",
            "_view_count": null,
            "_view_module": "@jupyter-widgets/controls",
            "_view_module_version": "1.5.0",
            "_view_name": "HTMLView",
            "description": "",
            "description_tooltip": null,
            "layout": "IPY_MODEL_16976a3941544cc8974bdf8bad7d9c3b",
            "placeholder": "​",
            "style": "IPY_MODEL_5225ecc879704ab48ae3173aaf9c7afe",
            "value": " 5000/5000 [00:02&lt;00:00, 2421.39 examples/s]"
          }
        },
        "1d0df56e5bab457983af41cfb4fb772b": {
          "model_module": "@jupyter-widgets/base",
          "model_name": "LayoutModel",
          "model_module_version": "1.2.0",
          "state": {
            "_model_module": "@jupyter-widgets/base",
            "_model_module_version": "1.2.0",
            "_model_name": "LayoutModel",
            "_view_count": null,
            "_view_module": "@jupyter-widgets/base",
            "_view_module_version": "1.2.0",
            "_view_name": "LayoutView",
            "align_content": null,
            "align_items": null,
            "align_self": null,
            "border": null,
            "bottom": null,
            "display": null,
            "flex": null,
            "flex_flow": null,
            "grid_area": null,
            "grid_auto_columns": null,
            "grid_auto_flow": null,
            "grid_auto_rows": null,
            "grid_column": null,
            "grid_gap": null,
            "grid_row": null,
            "grid_template_areas": null,
            "grid_template_columns": null,
            "grid_template_rows": null,
            "height": null,
            "justify_content": null,
            "justify_items": null,
            "left": null,
            "margin": null,
            "max_height": null,
            "max_width": null,
            "min_height": null,
            "min_width": null,
            "object_fit": null,
            "object_position": null,
            "order": null,
            "overflow": null,
            "overflow_x": null,
            "overflow_y": null,
            "padding": null,
            "right": null,
            "top": null,
            "visibility": null,
            "width": null
          }
        },
        "1fb9170c77844ed685c8f6259f542781": {
          "model_module": "@jupyter-widgets/base",
          "model_name": "LayoutModel",
          "model_module_version": "1.2.0",
          "state": {
            "_model_module": "@jupyter-widgets/base",
            "_model_module_version": "1.2.0",
            "_model_name": "LayoutModel",
            "_view_count": null,
            "_view_module": "@jupyter-widgets/base",
            "_view_module_version": "1.2.0",
            "_view_name": "LayoutView",
            "align_content": null,
            "align_items": null,
            "align_self": null,
            "border": null,
            "bottom": null,
            "display": null,
            "flex": null,
            "flex_flow": null,
            "grid_area": null,
            "grid_auto_columns": null,
            "grid_auto_flow": null,
            "grid_auto_rows": null,
            "grid_column": null,
            "grid_gap": null,
            "grid_row": null,
            "grid_template_areas": null,
            "grid_template_columns": null,
            "grid_template_rows": null,
            "height": null,
            "justify_content": null,
            "justify_items": null,
            "left": null,
            "margin": null,
            "max_height": null,
            "max_width": null,
            "min_height": null,
            "min_width": null,
            "object_fit": null,
            "object_position": null,
            "order": null,
            "overflow": null,
            "overflow_x": null,
            "overflow_y": null,
            "padding": null,
            "right": null,
            "top": null,
            "visibility": null,
            "width": null
          }
        },
        "cb3c282b2ffe450cb5f6a6b948021b08": {
          "model_module": "@jupyter-widgets/controls",
          "model_name": "DescriptionStyleModel",
          "model_module_version": "1.5.0",
          "state": {
            "_model_module": "@jupyter-widgets/controls",
            "_model_module_version": "1.5.0",
            "_model_name": "DescriptionStyleModel",
            "_view_count": null,
            "_view_module": "@jupyter-widgets/base",
            "_view_module_version": "1.2.0",
            "_view_name": "StyleView",
            "description_width": ""
          }
        },
        "1f1a36b633c2439e9587a4657959c852": {
          "model_module": "@jupyter-widgets/base",
          "model_name": "LayoutModel",
          "model_module_version": "1.2.0",
          "state": {
            "_model_module": "@jupyter-widgets/base",
            "_model_module_version": "1.2.0",
            "_model_name": "LayoutModel",
            "_view_count": null,
            "_view_module": "@jupyter-widgets/base",
            "_view_module_version": "1.2.0",
            "_view_name": "LayoutView",
            "align_content": null,
            "align_items": null,
            "align_self": null,
            "border": null,
            "bottom": null,
            "display": null,
            "flex": null,
            "flex_flow": null,
            "grid_area": null,
            "grid_auto_columns": null,
            "grid_auto_flow": null,
            "grid_auto_rows": null,
            "grid_column": null,
            "grid_gap": null,
            "grid_row": null,
            "grid_template_areas": null,
            "grid_template_columns": null,
            "grid_template_rows": null,
            "height": null,
            "justify_content": null,
            "justify_items": null,
            "left": null,
            "margin": null,
            "max_height": null,
            "max_width": null,
            "min_height": null,
            "min_width": null,
            "object_fit": null,
            "object_position": null,
            "order": null,
            "overflow": null,
            "overflow_x": null,
            "overflow_y": null,
            "padding": null,
            "right": null,
            "top": null,
            "visibility": null,
            "width": null
          }
        },
        "e57f40d6eadc44f6bff58c4c946965f8": {
          "model_module": "@jupyter-widgets/controls",
          "model_name": "ProgressStyleModel",
          "model_module_version": "1.5.0",
          "state": {
            "_model_module": "@jupyter-widgets/controls",
            "_model_module_version": "1.5.0",
            "_model_name": "ProgressStyleModel",
            "_view_count": null,
            "_view_module": "@jupyter-widgets/base",
            "_view_module_version": "1.2.0",
            "_view_name": "StyleView",
            "bar_color": null,
            "description_width": ""
          }
        },
        "16976a3941544cc8974bdf8bad7d9c3b": {
          "model_module": "@jupyter-widgets/base",
          "model_name": "LayoutModel",
          "model_module_version": "1.2.0",
          "state": {
            "_model_module": "@jupyter-widgets/base",
            "_model_module_version": "1.2.0",
            "_model_name": "LayoutModel",
            "_view_count": null,
            "_view_module": "@jupyter-widgets/base",
            "_view_module_version": "1.2.0",
            "_view_name": "LayoutView",
            "align_content": null,
            "align_items": null,
            "align_self": null,
            "border": null,
            "bottom": null,
            "display": null,
            "flex": null,
            "flex_flow": null,
            "grid_area": null,
            "grid_auto_columns": null,
            "grid_auto_flow": null,
            "grid_auto_rows": null,
            "grid_column": null,
            "grid_gap": null,
            "grid_row": null,
            "grid_template_areas": null,
            "grid_template_columns": null,
            "grid_template_rows": null,
            "height": null,
            "justify_content": null,
            "justify_items": null,
            "left": null,
            "margin": null,
            "max_height": null,
            "max_width": null,
            "min_height": null,
            "min_width": null,
            "object_fit": null,
            "object_position": null,
            "order": null,
            "overflow": null,
            "overflow_x": null,
            "overflow_y": null,
            "padding": null,
            "right": null,
            "top": null,
            "visibility": null,
            "width": null
          }
        },
        "5225ecc879704ab48ae3173aaf9c7afe": {
          "model_module": "@jupyter-widgets/controls",
          "model_name": "DescriptionStyleModel",
          "model_module_version": "1.5.0",
          "state": {
            "_model_module": "@jupyter-widgets/controls",
            "_model_module_version": "1.5.0",
            "_model_name": "DescriptionStyleModel",
            "_view_count": null,
            "_view_module": "@jupyter-widgets/base",
            "_view_module_version": "1.2.0",
            "_view_name": "StyleView",
            "description_width": ""
          }
        },
        "0ede303c59694ac3ab0ca81e35105d33": {
          "model_module": "@jupyter-widgets/controls",
          "model_name": "HBoxModel",
          "model_module_version": "1.5.0",
          "state": {
            "_dom_classes": [],
            "_model_module": "@jupyter-widgets/controls",
            "_model_module_version": "1.5.0",
            "_model_name": "HBoxModel",
            "_view_count": null,
            "_view_module": "@jupyter-widgets/controls",
            "_view_module_version": "1.5.0",
            "_view_name": "HBoxView",
            "box_style": "",
            "children": [
              "IPY_MODEL_b9171c3226f8408cba7ec13d6d57c352",
              "IPY_MODEL_8256501dc29e4147814afcff2c95b65c",
              "IPY_MODEL_4bb721b830034558890d7be705948716"
            ],
            "layout": "IPY_MODEL_0198d1976ae84edea821378205e89701"
          }
        },
        "b9171c3226f8408cba7ec13d6d57c352": {
          "model_module": "@jupyter-widgets/controls",
          "model_name": "HTMLModel",
          "model_module_version": "1.5.0",
          "state": {
            "_dom_classes": [],
            "_model_module": "@jupyter-widgets/controls",
            "_model_module_version": "1.5.0",
            "_model_name": "HTMLModel",
            "_view_count": null,
            "_view_module": "@jupyter-widgets/controls",
            "_view_module_version": "1.5.0",
            "_view_name": "HTMLView",
            "description": "",
            "description_tooltip": null,
            "layout": "IPY_MODEL_283c948f1f7d4e618e13905998986242",
            "placeholder": "​",
            "style": "IPY_MODEL_515838edc44f42e4b0011750f5067042",
            "value": "Map: 100%"
          }
        },
        "8256501dc29e4147814afcff2c95b65c": {
          "model_module": "@jupyter-widgets/controls",
          "model_name": "FloatProgressModel",
          "model_module_version": "1.5.0",
          "state": {
            "_dom_classes": [],
            "_model_module": "@jupyter-widgets/controls",
            "_model_module_version": "1.5.0",
            "_model_name": "FloatProgressModel",
            "_view_count": null,
            "_view_module": "@jupyter-widgets/controls",
            "_view_module_version": "1.5.0",
            "_view_name": "ProgressView",
            "bar_style": "success",
            "description": "",
            "description_tooltip": null,
            "layout": "IPY_MODEL_cd7a32c0d488442799f38fcdcf6e51b0",
            "max": 4000,
            "min": 0,
            "orientation": "horizontal",
            "style": "IPY_MODEL_3a9ab313c52f48e896836a362738f095",
            "value": 4000
          }
        },
        "4bb721b830034558890d7be705948716": {
          "model_module": "@jupyter-widgets/controls",
          "model_name": "HTMLModel",
          "model_module_version": "1.5.0",
          "state": {
            "_dom_classes": [],
            "_model_module": "@jupyter-widgets/controls",
            "_model_module_version": "1.5.0",
            "_model_name": "HTMLModel",
            "_view_count": null,
            "_view_module": "@jupyter-widgets/controls",
            "_view_module_version": "1.5.0",
            "_view_name": "HTMLView",
            "description": "",
            "description_tooltip": null,
            "layout": "IPY_MODEL_25fb34ba1af04caf97562639c19e855f",
            "placeholder": "​",
            "style": "IPY_MODEL_a38c3fb6cd964316b2727d70bf60bab5",
            "value": " 4000/4000 [00:02&lt;00:00, 1718.93 examples/s]"
          }
        },
        "0198d1976ae84edea821378205e89701": {
          "model_module": "@jupyter-widgets/base",
          "model_name": "LayoutModel",
          "model_module_version": "1.2.0",
          "state": {
            "_model_module": "@jupyter-widgets/base",
            "_model_module_version": "1.2.0",
            "_model_name": "LayoutModel",
            "_view_count": null,
            "_view_module": "@jupyter-widgets/base",
            "_view_module_version": "1.2.0",
            "_view_name": "LayoutView",
            "align_content": null,
            "align_items": null,
            "align_self": null,
            "border": null,
            "bottom": null,
            "display": null,
            "flex": null,
            "flex_flow": null,
            "grid_area": null,
            "grid_auto_columns": null,
            "grid_auto_flow": null,
            "grid_auto_rows": null,
            "grid_column": null,
            "grid_gap": null,
            "grid_row": null,
            "grid_template_areas": null,
            "grid_template_columns": null,
            "grid_template_rows": null,
            "height": null,
            "justify_content": null,
            "justify_items": null,
            "left": null,
            "margin": null,
            "max_height": null,
            "max_width": null,
            "min_height": null,
            "min_width": null,
            "object_fit": null,
            "object_position": null,
            "order": null,
            "overflow": null,
            "overflow_x": null,
            "overflow_y": null,
            "padding": null,
            "right": null,
            "top": null,
            "visibility": null,
            "width": null
          }
        },
        "283c948f1f7d4e618e13905998986242": {
          "model_module": "@jupyter-widgets/base",
          "model_name": "LayoutModel",
          "model_module_version": "1.2.0",
          "state": {
            "_model_module": "@jupyter-widgets/base",
            "_model_module_version": "1.2.0",
            "_model_name": "LayoutModel",
            "_view_count": null,
            "_view_module": "@jupyter-widgets/base",
            "_view_module_version": "1.2.0",
            "_view_name": "LayoutView",
            "align_content": null,
            "align_items": null,
            "align_self": null,
            "border": null,
            "bottom": null,
            "display": null,
            "flex": null,
            "flex_flow": null,
            "grid_area": null,
            "grid_auto_columns": null,
            "grid_auto_flow": null,
            "grid_auto_rows": null,
            "grid_column": null,
            "grid_gap": null,
            "grid_row": null,
            "grid_template_areas": null,
            "grid_template_columns": null,
            "grid_template_rows": null,
            "height": null,
            "justify_content": null,
            "justify_items": null,
            "left": null,
            "margin": null,
            "max_height": null,
            "max_width": null,
            "min_height": null,
            "min_width": null,
            "object_fit": null,
            "object_position": null,
            "order": null,
            "overflow": null,
            "overflow_x": null,
            "overflow_y": null,
            "padding": null,
            "right": null,
            "top": null,
            "visibility": null,
            "width": null
          }
        },
        "515838edc44f42e4b0011750f5067042": {
          "model_module": "@jupyter-widgets/controls",
          "model_name": "DescriptionStyleModel",
          "model_module_version": "1.5.0",
          "state": {
            "_model_module": "@jupyter-widgets/controls",
            "_model_module_version": "1.5.0",
            "_model_name": "DescriptionStyleModel",
            "_view_count": null,
            "_view_module": "@jupyter-widgets/base",
            "_view_module_version": "1.2.0",
            "_view_name": "StyleView",
            "description_width": ""
          }
        },
        "cd7a32c0d488442799f38fcdcf6e51b0": {
          "model_module": "@jupyter-widgets/base",
          "model_name": "LayoutModel",
          "model_module_version": "1.2.0",
          "state": {
            "_model_module": "@jupyter-widgets/base",
            "_model_module_version": "1.2.0",
            "_model_name": "LayoutModel",
            "_view_count": null,
            "_view_module": "@jupyter-widgets/base",
            "_view_module_version": "1.2.0",
            "_view_name": "LayoutView",
            "align_content": null,
            "align_items": null,
            "align_self": null,
            "border": null,
            "bottom": null,
            "display": null,
            "flex": null,
            "flex_flow": null,
            "grid_area": null,
            "grid_auto_columns": null,
            "grid_auto_flow": null,
            "grid_auto_rows": null,
            "grid_column": null,
            "grid_gap": null,
            "grid_row": null,
            "grid_template_areas": null,
            "grid_template_columns": null,
            "grid_template_rows": null,
            "height": null,
            "justify_content": null,
            "justify_items": null,
            "left": null,
            "margin": null,
            "max_height": null,
            "max_width": null,
            "min_height": null,
            "min_width": null,
            "object_fit": null,
            "object_position": null,
            "order": null,
            "overflow": null,
            "overflow_x": null,
            "overflow_y": null,
            "padding": null,
            "right": null,
            "top": null,
            "visibility": null,
            "width": null
          }
        },
        "3a9ab313c52f48e896836a362738f095": {
          "model_module": "@jupyter-widgets/controls",
          "model_name": "ProgressStyleModel",
          "model_module_version": "1.5.0",
          "state": {
            "_model_module": "@jupyter-widgets/controls",
            "_model_module_version": "1.5.0",
            "_model_name": "ProgressStyleModel",
            "_view_count": null,
            "_view_module": "@jupyter-widgets/base",
            "_view_module_version": "1.2.0",
            "_view_name": "StyleView",
            "bar_color": null,
            "description_width": ""
          }
        },
        "25fb34ba1af04caf97562639c19e855f": {
          "model_module": "@jupyter-widgets/base",
          "model_name": "LayoutModel",
          "model_module_version": "1.2.0",
          "state": {
            "_model_module": "@jupyter-widgets/base",
            "_model_module_version": "1.2.0",
            "_model_name": "LayoutModel",
            "_view_count": null,
            "_view_module": "@jupyter-widgets/base",
            "_view_module_version": "1.2.0",
            "_view_name": "LayoutView",
            "align_content": null,
            "align_items": null,
            "align_self": null,
            "border": null,
            "bottom": null,
            "display": null,
            "flex": null,
            "flex_flow": null,
            "grid_area": null,
            "grid_auto_columns": null,
            "grid_auto_flow": null,
            "grid_auto_rows": null,
            "grid_column": null,
            "grid_gap": null,
            "grid_row": null,
            "grid_template_areas": null,
            "grid_template_columns": null,
            "grid_template_rows": null,
            "height": null,
            "justify_content": null,
            "justify_items": null,
            "left": null,
            "margin": null,
            "max_height": null,
            "max_width": null,
            "min_height": null,
            "min_width": null,
            "object_fit": null,
            "object_position": null,
            "order": null,
            "overflow": null,
            "overflow_x": null,
            "overflow_y": null,
            "padding": null,
            "right": null,
            "top": null,
            "visibility": null,
            "width": null
          }
        },
        "a38c3fb6cd964316b2727d70bf60bab5": {
          "model_module": "@jupyter-widgets/controls",
          "model_name": "DescriptionStyleModel",
          "model_module_version": "1.5.0",
          "state": {
            "_model_module": "@jupyter-widgets/controls",
            "_model_module_version": "1.5.0",
            "_model_name": "DescriptionStyleModel",
            "_view_count": null,
            "_view_module": "@jupyter-widgets/base",
            "_view_module_version": "1.2.0",
            "_view_name": "StyleView",
            "description_width": ""
          }
        },
        "41314325b149420d9b65bbed12bb6dee": {
          "model_module": "@jupyter-widgets/controls",
          "model_name": "HBoxModel",
          "model_module_version": "1.5.0",
          "state": {
            "_dom_classes": [],
            "_model_module": "@jupyter-widgets/controls",
            "_model_module_version": "1.5.0",
            "_model_name": "HBoxModel",
            "_view_count": null,
            "_view_module": "@jupyter-widgets/controls",
            "_view_module_version": "1.5.0",
            "_view_name": "HBoxView",
            "box_style": "",
            "children": [
              "IPY_MODEL_e3fb4a0d44cf461da7a8d8d6b94f829b",
              "IPY_MODEL_64adc17691104cb2b790432389ead4a5",
              "IPY_MODEL_8fd1ead75336454d8530204c2f8c5285"
            ],
            "layout": "IPY_MODEL_b8432fbd469f4314916767bc6d521621"
          }
        },
        "e3fb4a0d44cf461da7a8d8d6b94f829b": {
          "model_module": "@jupyter-widgets/controls",
          "model_name": "HTMLModel",
          "model_module_version": "1.5.0",
          "state": {
            "_dom_classes": [],
            "_model_module": "@jupyter-widgets/controls",
            "_model_module_version": "1.5.0",
            "_model_name": "HTMLModel",
            "_view_count": null,
            "_view_module": "@jupyter-widgets/controls",
            "_view_module_version": "1.5.0",
            "_view_name": "HTMLView",
            "description": "",
            "description_tooltip": null,
            "layout": "IPY_MODEL_5f219f1be0b84f0781eeda1be02d6a92",
            "placeholder": "​",
            "style": "IPY_MODEL_cae80933a9d9405f98267d134a576429",
            "value": "Map: 100%"
          }
        },
        "64adc17691104cb2b790432389ead4a5": {
          "model_module": "@jupyter-widgets/controls",
          "model_name": "FloatProgressModel",
          "model_module_version": "1.5.0",
          "state": {
            "_dom_classes": [],
            "_model_module": "@jupyter-widgets/controls",
            "_model_module_version": "1.5.0",
            "_model_name": "FloatProgressModel",
            "_view_count": null,
            "_view_module": "@jupyter-widgets/controls",
            "_view_module_version": "1.5.0",
            "_view_name": "ProgressView",
            "bar_style": "success",
            "description": "",
            "description_tooltip": null,
            "layout": "IPY_MODEL_f008ccb138d04c239c9d16c3fffb06ee",
            "max": 500,
            "min": 0,
            "orientation": "horizontal",
            "style": "IPY_MODEL_febcfa770b424080bfee4bb5b4cd4106",
            "value": 500
          }
        },
        "8fd1ead75336454d8530204c2f8c5285": {
          "model_module": "@jupyter-widgets/controls",
          "model_name": "HTMLModel",
          "model_module_version": "1.5.0",
          "state": {
            "_dom_classes": [],
            "_model_module": "@jupyter-widgets/controls",
            "_model_module_version": "1.5.0",
            "_model_name": "HTMLModel",
            "_view_count": null,
            "_view_module": "@jupyter-widgets/controls",
            "_view_module_version": "1.5.0",
            "_view_name": "HTMLView",
            "description": "",
            "description_tooltip": null,
            "layout": "IPY_MODEL_ca8293e895ea431d8d7ed87cd4362ba5",
            "placeholder": "​",
            "style": "IPY_MODEL_5041e8b693b04be7be2cf878eac0e7d4",
            "value": " 500/500 [00:00&lt;00:00, 1596.30 examples/s]"
          }
        },
        "b8432fbd469f4314916767bc6d521621": {
          "model_module": "@jupyter-widgets/base",
          "model_name": "LayoutModel",
          "model_module_version": "1.2.0",
          "state": {
            "_model_module": "@jupyter-widgets/base",
            "_model_module_version": "1.2.0",
            "_model_name": "LayoutModel",
            "_view_count": null,
            "_view_module": "@jupyter-widgets/base",
            "_view_module_version": "1.2.0",
            "_view_name": "LayoutView",
            "align_content": null,
            "align_items": null,
            "align_self": null,
            "border": null,
            "bottom": null,
            "display": null,
            "flex": null,
            "flex_flow": null,
            "grid_area": null,
            "grid_auto_columns": null,
            "grid_auto_flow": null,
            "grid_auto_rows": null,
            "grid_column": null,
            "grid_gap": null,
            "grid_row": null,
            "grid_template_areas": null,
            "grid_template_columns": null,
            "grid_template_rows": null,
            "height": null,
            "justify_content": null,
            "justify_items": null,
            "left": null,
            "margin": null,
            "max_height": null,
            "max_width": null,
            "min_height": null,
            "min_width": null,
            "object_fit": null,
            "object_position": null,
            "order": null,
            "overflow": null,
            "overflow_x": null,
            "overflow_y": null,
            "padding": null,
            "right": null,
            "top": null,
            "visibility": null,
            "width": null
          }
        },
        "5f219f1be0b84f0781eeda1be02d6a92": {
          "model_module": "@jupyter-widgets/base",
          "model_name": "LayoutModel",
          "model_module_version": "1.2.0",
          "state": {
            "_model_module": "@jupyter-widgets/base",
            "_model_module_version": "1.2.0",
            "_model_name": "LayoutModel",
            "_view_count": null,
            "_view_module": "@jupyter-widgets/base",
            "_view_module_version": "1.2.0",
            "_view_name": "LayoutView",
            "align_content": null,
            "align_items": null,
            "align_self": null,
            "border": null,
            "bottom": null,
            "display": null,
            "flex": null,
            "flex_flow": null,
            "grid_area": null,
            "grid_auto_columns": null,
            "grid_auto_flow": null,
            "grid_auto_rows": null,
            "grid_column": null,
            "grid_gap": null,
            "grid_row": null,
            "grid_template_areas": null,
            "grid_template_columns": null,
            "grid_template_rows": null,
            "height": null,
            "justify_content": null,
            "justify_items": null,
            "left": null,
            "margin": null,
            "max_height": null,
            "max_width": null,
            "min_height": null,
            "min_width": null,
            "object_fit": null,
            "object_position": null,
            "order": null,
            "overflow": null,
            "overflow_x": null,
            "overflow_y": null,
            "padding": null,
            "right": null,
            "top": null,
            "visibility": null,
            "width": null
          }
        },
        "cae80933a9d9405f98267d134a576429": {
          "model_module": "@jupyter-widgets/controls",
          "model_name": "DescriptionStyleModel",
          "model_module_version": "1.5.0",
          "state": {
            "_model_module": "@jupyter-widgets/controls",
            "_model_module_version": "1.5.0",
            "_model_name": "DescriptionStyleModel",
            "_view_count": null,
            "_view_module": "@jupyter-widgets/base",
            "_view_module_version": "1.2.0",
            "_view_name": "StyleView",
            "description_width": ""
          }
        },
        "f008ccb138d04c239c9d16c3fffb06ee": {
          "model_module": "@jupyter-widgets/base",
          "model_name": "LayoutModel",
          "model_module_version": "1.2.0",
          "state": {
            "_model_module": "@jupyter-widgets/base",
            "_model_module_version": "1.2.0",
            "_model_name": "LayoutModel",
            "_view_count": null,
            "_view_module": "@jupyter-widgets/base",
            "_view_module_version": "1.2.0",
            "_view_name": "LayoutView",
            "align_content": null,
            "align_items": null,
            "align_self": null,
            "border": null,
            "bottom": null,
            "display": null,
            "flex": null,
            "flex_flow": null,
            "grid_area": null,
            "grid_auto_columns": null,
            "grid_auto_flow": null,
            "grid_auto_rows": null,
            "grid_column": null,
            "grid_gap": null,
            "grid_row": null,
            "grid_template_areas": null,
            "grid_template_columns": null,
            "grid_template_rows": null,
            "height": null,
            "justify_content": null,
            "justify_items": null,
            "left": null,
            "margin": null,
            "max_height": null,
            "max_width": null,
            "min_height": null,
            "min_width": null,
            "object_fit": null,
            "object_position": null,
            "order": null,
            "overflow": null,
            "overflow_x": null,
            "overflow_y": null,
            "padding": null,
            "right": null,
            "top": null,
            "visibility": null,
            "width": null
          }
        },
        "febcfa770b424080bfee4bb5b4cd4106": {
          "model_module": "@jupyter-widgets/controls",
          "model_name": "ProgressStyleModel",
          "model_module_version": "1.5.0",
          "state": {
            "_model_module": "@jupyter-widgets/controls",
            "_model_module_version": "1.5.0",
            "_model_name": "ProgressStyleModel",
            "_view_count": null,
            "_view_module": "@jupyter-widgets/base",
            "_view_module_version": "1.2.0",
            "_view_name": "StyleView",
            "bar_color": null,
            "description_width": ""
          }
        },
        "ca8293e895ea431d8d7ed87cd4362ba5": {
          "model_module": "@jupyter-widgets/base",
          "model_name": "LayoutModel",
          "model_module_version": "1.2.0",
          "state": {
            "_model_module": "@jupyter-widgets/base",
            "_model_module_version": "1.2.0",
            "_model_name": "LayoutModel",
            "_view_count": null,
            "_view_module": "@jupyter-widgets/base",
            "_view_module_version": "1.2.0",
            "_view_name": "LayoutView",
            "align_content": null,
            "align_items": null,
            "align_self": null,
            "border": null,
            "bottom": null,
            "display": null,
            "flex": null,
            "flex_flow": null,
            "grid_area": null,
            "grid_auto_columns": null,
            "grid_auto_flow": null,
            "grid_auto_rows": null,
            "grid_column": null,
            "grid_gap": null,
            "grid_row": null,
            "grid_template_areas": null,
            "grid_template_columns": null,
            "grid_template_rows": null,
            "height": null,
            "justify_content": null,
            "justify_items": null,
            "left": null,
            "margin": null,
            "max_height": null,
            "max_width": null,
            "min_height": null,
            "min_width": null,
            "object_fit": null,
            "object_position": null,
            "order": null,
            "overflow": null,
            "overflow_x": null,
            "overflow_y": null,
            "padding": null,
            "right": null,
            "top": null,
            "visibility": null,
            "width": null
          }
        },
        "5041e8b693b04be7be2cf878eac0e7d4": {
          "model_module": "@jupyter-widgets/controls",
          "model_name": "DescriptionStyleModel",
          "model_module_version": "1.5.0",
          "state": {
            "_model_module": "@jupyter-widgets/controls",
            "_model_module_version": "1.5.0",
            "_model_name": "DescriptionStyleModel",
            "_view_count": null,
            "_view_module": "@jupyter-widgets/base",
            "_view_module_version": "1.2.0",
            "_view_name": "StyleView",
            "description_width": ""
          }
        },
        "9137b5f44bf84bf094481cc22ab2b4ea": {
          "model_module": "@jupyter-widgets/controls",
          "model_name": "HBoxModel",
          "model_module_version": "1.5.0",
          "state": {
            "_dom_classes": [],
            "_model_module": "@jupyter-widgets/controls",
            "_model_module_version": "1.5.0",
            "_model_name": "HBoxModel",
            "_view_count": null,
            "_view_module": "@jupyter-widgets/controls",
            "_view_module_version": "1.5.0",
            "_view_name": "HBoxView",
            "box_style": "",
            "children": [
              "IPY_MODEL_68a1dbae650b4369bbbb819ba43f6245",
              "IPY_MODEL_87b6d1d2c5e04065a8c21f0b4e343c25",
              "IPY_MODEL_40cc4b561a56414b89ff4d571aab1981"
            ],
            "layout": "IPY_MODEL_4dcf927e68ce48daa6e0665cf213b6f0"
          }
        },
        "68a1dbae650b4369bbbb819ba43f6245": {
          "model_module": "@jupyter-widgets/controls",
          "model_name": "HTMLModel",
          "model_module_version": "1.5.0",
          "state": {
            "_dom_classes": [],
            "_model_module": "@jupyter-widgets/controls",
            "_model_module_version": "1.5.0",
            "_model_name": "HTMLModel",
            "_view_count": null,
            "_view_module": "@jupyter-widgets/controls",
            "_view_module_version": "1.5.0",
            "_view_name": "HTMLView",
            "description": "",
            "description_tooltip": null,
            "layout": "IPY_MODEL_ec766ee0329f455dbc2d45d89faaa207",
            "placeholder": "​",
            "style": "IPY_MODEL_71bd0c00a7c0469db171a339f235faa0",
            "value": "Map: 100%"
          }
        },
        "87b6d1d2c5e04065a8c21f0b4e343c25": {
          "model_module": "@jupyter-widgets/controls",
          "model_name": "FloatProgressModel",
          "model_module_version": "1.5.0",
          "state": {
            "_dom_classes": [],
            "_model_module": "@jupyter-widgets/controls",
            "_model_module_version": "1.5.0",
            "_model_name": "FloatProgressModel",
            "_view_count": null,
            "_view_module": "@jupyter-widgets/controls",
            "_view_module_version": "1.5.0",
            "_view_name": "ProgressView",
            "bar_style": "success",
            "description": "",
            "description_tooltip": null,
            "layout": "IPY_MODEL_362ebd29dcff4c999cbdeb10de7d9f7f",
            "max": 500,
            "min": 0,
            "orientation": "horizontal",
            "style": "IPY_MODEL_2ecf08d8608d4247bef05189d9a72cdb",
            "value": 500
          }
        },
        "40cc4b561a56414b89ff4d571aab1981": {
          "model_module": "@jupyter-widgets/controls",
          "model_name": "HTMLModel",
          "model_module_version": "1.5.0",
          "state": {
            "_dom_classes": [],
            "_model_module": "@jupyter-widgets/controls",
            "_model_module_version": "1.5.0",
            "_model_name": "HTMLModel",
            "_view_count": null,
            "_view_module": "@jupyter-widgets/controls",
            "_view_module_version": "1.5.0",
            "_view_name": "HTMLView",
            "description": "",
            "description_tooltip": null,
            "layout": "IPY_MODEL_c210358c47054a578220a696133ec411",
            "placeholder": "​",
            "style": "IPY_MODEL_0479237c719243d58ebb022d8636a282",
            "value": " 500/500 [00:00&lt;00:00, 1601.75 examples/s]"
          }
        },
        "4dcf927e68ce48daa6e0665cf213b6f0": {
          "model_module": "@jupyter-widgets/base",
          "model_name": "LayoutModel",
          "model_module_version": "1.2.0",
          "state": {
            "_model_module": "@jupyter-widgets/base",
            "_model_module_version": "1.2.0",
            "_model_name": "LayoutModel",
            "_view_count": null,
            "_view_module": "@jupyter-widgets/base",
            "_view_module_version": "1.2.0",
            "_view_name": "LayoutView",
            "align_content": null,
            "align_items": null,
            "align_self": null,
            "border": null,
            "bottom": null,
            "display": null,
            "flex": null,
            "flex_flow": null,
            "grid_area": null,
            "grid_auto_columns": null,
            "grid_auto_flow": null,
            "grid_auto_rows": null,
            "grid_column": null,
            "grid_gap": null,
            "grid_row": null,
            "grid_template_areas": null,
            "grid_template_columns": null,
            "grid_template_rows": null,
            "height": null,
            "justify_content": null,
            "justify_items": null,
            "left": null,
            "margin": null,
            "max_height": null,
            "max_width": null,
            "min_height": null,
            "min_width": null,
            "object_fit": null,
            "object_position": null,
            "order": null,
            "overflow": null,
            "overflow_x": null,
            "overflow_y": null,
            "padding": null,
            "right": null,
            "top": null,
            "visibility": null,
            "width": null
          }
        },
        "ec766ee0329f455dbc2d45d89faaa207": {
          "model_module": "@jupyter-widgets/base",
          "model_name": "LayoutModel",
          "model_module_version": "1.2.0",
          "state": {
            "_model_module": "@jupyter-widgets/base",
            "_model_module_version": "1.2.0",
            "_model_name": "LayoutModel",
            "_view_count": null,
            "_view_module": "@jupyter-widgets/base",
            "_view_module_version": "1.2.0",
            "_view_name": "LayoutView",
            "align_content": null,
            "align_items": null,
            "align_self": null,
            "border": null,
            "bottom": null,
            "display": null,
            "flex": null,
            "flex_flow": null,
            "grid_area": null,
            "grid_auto_columns": null,
            "grid_auto_flow": null,
            "grid_auto_rows": null,
            "grid_column": null,
            "grid_gap": null,
            "grid_row": null,
            "grid_template_areas": null,
            "grid_template_columns": null,
            "grid_template_rows": null,
            "height": null,
            "justify_content": null,
            "justify_items": null,
            "left": null,
            "margin": null,
            "max_height": null,
            "max_width": null,
            "min_height": null,
            "min_width": null,
            "object_fit": null,
            "object_position": null,
            "order": null,
            "overflow": null,
            "overflow_x": null,
            "overflow_y": null,
            "padding": null,
            "right": null,
            "top": null,
            "visibility": null,
            "width": null
          }
        },
        "71bd0c00a7c0469db171a339f235faa0": {
          "model_module": "@jupyter-widgets/controls",
          "model_name": "DescriptionStyleModel",
          "model_module_version": "1.5.0",
          "state": {
            "_model_module": "@jupyter-widgets/controls",
            "_model_module_version": "1.5.0",
            "_model_name": "DescriptionStyleModel",
            "_view_count": null,
            "_view_module": "@jupyter-widgets/base",
            "_view_module_version": "1.2.0",
            "_view_name": "StyleView",
            "description_width": ""
          }
        },
        "362ebd29dcff4c999cbdeb10de7d9f7f": {
          "model_module": "@jupyter-widgets/base",
          "model_name": "LayoutModel",
          "model_module_version": "1.2.0",
          "state": {
            "_model_module": "@jupyter-widgets/base",
            "_model_module_version": "1.2.0",
            "_model_name": "LayoutModel",
            "_view_count": null,
            "_view_module": "@jupyter-widgets/base",
            "_view_module_version": "1.2.0",
            "_view_name": "LayoutView",
            "align_content": null,
            "align_items": null,
            "align_self": null,
            "border": null,
            "bottom": null,
            "display": null,
            "flex": null,
            "flex_flow": null,
            "grid_area": null,
            "grid_auto_columns": null,
            "grid_auto_flow": null,
            "grid_auto_rows": null,
            "grid_column": null,
            "grid_gap": null,
            "grid_row": null,
            "grid_template_areas": null,
            "grid_template_columns": null,
            "grid_template_rows": null,
            "height": null,
            "justify_content": null,
            "justify_items": null,
            "left": null,
            "margin": null,
            "max_height": null,
            "max_width": null,
            "min_height": null,
            "min_width": null,
            "object_fit": null,
            "object_position": null,
            "order": null,
            "overflow": null,
            "overflow_x": null,
            "overflow_y": null,
            "padding": null,
            "right": null,
            "top": null,
            "visibility": null,
            "width": null
          }
        },
        "2ecf08d8608d4247bef05189d9a72cdb": {
          "model_module": "@jupyter-widgets/controls",
          "model_name": "ProgressStyleModel",
          "model_module_version": "1.5.0",
          "state": {
            "_model_module": "@jupyter-widgets/controls",
            "_model_module_version": "1.5.0",
            "_model_name": "ProgressStyleModel",
            "_view_count": null,
            "_view_module": "@jupyter-widgets/base",
            "_view_module_version": "1.2.0",
            "_view_name": "StyleView",
            "bar_color": null,
            "description_width": ""
          }
        },
        "c210358c47054a578220a696133ec411": {
          "model_module": "@jupyter-widgets/base",
          "model_name": "LayoutModel",
          "model_module_version": "1.2.0",
          "state": {
            "_model_module": "@jupyter-widgets/base",
            "_model_module_version": "1.2.0",
            "_model_name": "LayoutModel",
            "_view_count": null,
            "_view_module": "@jupyter-widgets/base",
            "_view_module_version": "1.2.0",
            "_view_name": "LayoutView",
            "align_content": null,
            "align_items": null,
            "align_self": null,
            "border": null,
            "bottom": null,
            "display": null,
            "flex": null,
            "flex_flow": null,
            "grid_area": null,
            "grid_auto_columns": null,
            "grid_auto_flow": null,
            "grid_auto_rows": null,
            "grid_column": null,
            "grid_gap": null,
            "grid_row": null,
            "grid_template_areas": null,
            "grid_template_columns": null,
            "grid_template_rows": null,
            "height": null,
            "justify_content": null,
            "justify_items": null,
            "left": null,
            "margin": null,
            "max_height": null,
            "max_width": null,
            "min_height": null,
            "min_width": null,
            "object_fit": null,
            "object_position": null,
            "order": null,
            "overflow": null,
            "overflow_x": null,
            "overflow_y": null,
            "padding": null,
            "right": null,
            "top": null,
            "visibility": null,
            "width": null
          }
        },
        "0479237c719243d58ebb022d8636a282": {
          "model_module": "@jupyter-widgets/controls",
          "model_name": "DescriptionStyleModel",
          "model_module_version": "1.5.0",
          "state": {
            "_model_module": "@jupyter-widgets/controls",
            "_model_module_version": "1.5.0",
            "_model_name": "DescriptionStyleModel",
            "_view_count": null,
            "_view_module": "@jupyter-widgets/base",
            "_view_module_version": "1.2.0",
            "_view_name": "StyleView",
            "description_width": ""
          }
        },
        "c44392430f78468cac5aac8d7317f244": {
          "model_module": "@jupyter-widgets/controls",
          "model_name": "HBoxModel",
          "model_module_version": "1.5.0",
          "state": {
            "_dom_classes": [],
            "_model_module": "@jupyter-widgets/controls",
            "_model_module_version": "1.5.0",
            "_model_name": "HBoxModel",
            "_view_count": null,
            "_view_module": "@jupyter-widgets/controls",
            "_view_module_version": "1.5.0",
            "_view_name": "HBoxView",
            "box_style": "",
            "children": [
              "IPY_MODEL_cab3d5537aab4ad1b9d9fff762f3a940",
              "IPY_MODEL_bce0780f0f5c4c7d81c175a5812ecef5",
              "IPY_MODEL_73d2303436124d979095d92ae63c7e0d"
            ],
            "layout": "IPY_MODEL_074ceb4ae6114cad9afaf17646cfef53"
          }
        },
        "cab3d5537aab4ad1b9d9fff762f3a940": {
          "model_module": "@jupyter-widgets/controls",
          "model_name": "HTMLModel",
          "model_module_version": "1.5.0",
          "state": {
            "_dom_classes": [],
            "_model_module": "@jupyter-widgets/controls",
            "_model_module_version": "1.5.0",
            "_model_name": "HTMLModel",
            "_view_count": null,
            "_view_module": "@jupyter-widgets/controls",
            "_view_module_version": "1.5.0",
            "_view_name": "HTMLView",
            "description": "",
            "description_tooltip": null,
            "layout": "IPY_MODEL_428ee92f6155497c8dcd44b311d113f6",
            "placeholder": "​",
            "style": "IPY_MODEL_5eb1d4de56d040a596a08b22d0aa1154",
            "value": "Map: 100%"
          }
        },
        "bce0780f0f5c4c7d81c175a5812ecef5": {
          "model_module": "@jupyter-widgets/controls",
          "model_name": "FloatProgressModel",
          "model_module_version": "1.5.0",
          "state": {
            "_dom_classes": [],
            "_model_module": "@jupyter-widgets/controls",
            "_model_module_version": "1.5.0",
            "_model_name": "FloatProgressModel",
            "_view_count": null,
            "_view_module": "@jupyter-widgets/controls",
            "_view_module_version": "1.5.0",
            "_view_name": "ProgressView",
            "bar_style": "success",
            "description": "",
            "description_tooltip": null,
            "layout": "IPY_MODEL_38eeb189fdd74f9a8a6145f6fd6f91b4",
            "max": 4000,
            "min": 0,
            "orientation": "horizontal",
            "style": "IPY_MODEL_aaa2ce9b0f0648daadd85b2fb39badc6",
            "value": 4000
          }
        },
        "73d2303436124d979095d92ae63c7e0d": {
          "model_module": "@jupyter-widgets/controls",
          "model_name": "HTMLModel",
          "model_module_version": "1.5.0",
          "state": {
            "_dom_classes": [],
            "_model_module": "@jupyter-widgets/controls",
            "_model_module_version": "1.5.0",
            "_model_name": "HTMLModel",
            "_view_count": null,
            "_view_module": "@jupyter-widgets/controls",
            "_view_module_version": "1.5.0",
            "_view_name": "HTMLView",
            "description": "",
            "description_tooltip": null,
            "layout": "IPY_MODEL_6fb68f9f9f0147658d38768dee592648",
            "placeholder": "​",
            "style": "IPY_MODEL_3d613df993da414d9c227ae1e4746ca6",
            "value": " 4000/4000 [02:29&lt;00:00, 23.81 examples/s]"
          }
        },
        "074ceb4ae6114cad9afaf17646cfef53": {
          "model_module": "@jupyter-widgets/base",
          "model_name": "LayoutModel",
          "model_module_version": "1.2.0",
          "state": {
            "_model_module": "@jupyter-widgets/base",
            "_model_module_version": "1.2.0",
            "_model_name": "LayoutModel",
            "_view_count": null,
            "_view_module": "@jupyter-widgets/base",
            "_view_module_version": "1.2.0",
            "_view_name": "LayoutView",
            "align_content": null,
            "align_items": null,
            "align_self": null,
            "border": null,
            "bottom": null,
            "display": null,
            "flex": null,
            "flex_flow": null,
            "grid_area": null,
            "grid_auto_columns": null,
            "grid_auto_flow": null,
            "grid_auto_rows": null,
            "grid_column": null,
            "grid_gap": null,
            "grid_row": null,
            "grid_template_areas": null,
            "grid_template_columns": null,
            "grid_template_rows": null,
            "height": null,
            "justify_content": null,
            "justify_items": null,
            "left": null,
            "margin": null,
            "max_height": null,
            "max_width": null,
            "min_height": null,
            "min_width": null,
            "object_fit": null,
            "object_position": null,
            "order": null,
            "overflow": null,
            "overflow_x": null,
            "overflow_y": null,
            "padding": null,
            "right": null,
            "top": null,
            "visibility": null,
            "width": null
          }
        },
        "428ee92f6155497c8dcd44b311d113f6": {
          "model_module": "@jupyter-widgets/base",
          "model_name": "LayoutModel",
          "model_module_version": "1.2.0",
          "state": {
            "_model_module": "@jupyter-widgets/base",
            "_model_module_version": "1.2.0",
            "_model_name": "LayoutModel",
            "_view_count": null,
            "_view_module": "@jupyter-widgets/base",
            "_view_module_version": "1.2.0",
            "_view_name": "LayoutView",
            "align_content": null,
            "align_items": null,
            "align_self": null,
            "border": null,
            "bottom": null,
            "display": null,
            "flex": null,
            "flex_flow": null,
            "grid_area": null,
            "grid_auto_columns": null,
            "grid_auto_flow": null,
            "grid_auto_rows": null,
            "grid_column": null,
            "grid_gap": null,
            "grid_row": null,
            "grid_template_areas": null,
            "grid_template_columns": null,
            "grid_template_rows": null,
            "height": null,
            "justify_content": null,
            "justify_items": null,
            "left": null,
            "margin": null,
            "max_height": null,
            "max_width": null,
            "min_height": null,
            "min_width": null,
            "object_fit": null,
            "object_position": null,
            "order": null,
            "overflow": null,
            "overflow_x": null,
            "overflow_y": null,
            "padding": null,
            "right": null,
            "top": null,
            "visibility": null,
            "width": null
          }
        },
        "5eb1d4de56d040a596a08b22d0aa1154": {
          "model_module": "@jupyter-widgets/controls",
          "model_name": "DescriptionStyleModel",
          "model_module_version": "1.5.0",
          "state": {
            "_model_module": "@jupyter-widgets/controls",
            "_model_module_version": "1.5.0",
            "_model_name": "DescriptionStyleModel",
            "_view_count": null,
            "_view_module": "@jupyter-widgets/base",
            "_view_module_version": "1.2.0",
            "_view_name": "StyleView",
            "description_width": ""
          }
        },
        "38eeb189fdd74f9a8a6145f6fd6f91b4": {
          "model_module": "@jupyter-widgets/base",
          "model_name": "LayoutModel",
          "model_module_version": "1.2.0",
          "state": {
            "_model_module": "@jupyter-widgets/base",
            "_model_module_version": "1.2.0",
            "_model_name": "LayoutModel",
            "_view_count": null,
            "_view_module": "@jupyter-widgets/base",
            "_view_module_version": "1.2.0",
            "_view_name": "LayoutView",
            "align_content": null,
            "align_items": null,
            "align_self": null,
            "border": null,
            "bottom": null,
            "display": null,
            "flex": null,
            "flex_flow": null,
            "grid_area": null,
            "grid_auto_columns": null,
            "grid_auto_flow": null,
            "grid_auto_rows": null,
            "grid_column": null,
            "grid_gap": null,
            "grid_row": null,
            "grid_template_areas": null,
            "grid_template_columns": null,
            "grid_template_rows": null,
            "height": null,
            "justify_content": null,
            "justify_items": null,
            "left": null,
            "margin": null,
            "max_height": null,
            "max_width": null,
            "min_height": null,
            "min_width": null,
            "object_fit": null,
            "object_position": null,
            "order": null,
            "overflow": null,
            "overflow_x": null,
            "overflow_y": null,
            "padding": null,
            "right": null,
            "top": null,
            "visibility": null,
            "width": null
          }
        },
        "aaa2ce9b0f0648daadd85b2fb39badc6": {
          "model_module": "@jupyter-widgets/controls",
          "model_name": "ProgressStyleModel",
          "model_module_version": "1.5.0",
          "state": {
            "_model_module": "@jupyter-widgets/controls",
            "_model_module_version": "1.5.0",
            "_model_name": "ProgressStyleModel",
            "_view_count": null,
            "_view_module": "@jupyter-widgets/base",
            "_view_module_version": "1.2.0",
            "_view_name": "StyleView",
            "bar_color": null,
            "description_width": ""
          }
        },
        "6fb68f9f9f0147658d38768dee592648": {
          "model_module": "@jupyter-widgets/base",
          "model_name": "LayoutModel",
          "model_module_version": "1.2.0",
          "state": {
            "_model_module": "@jupyter-widgets/base",
            "_model_module_version": "1.2.0",
            "_model_name": "LayoutModel",
            "_view_count": null,
            "_view_module": "@jupyter-widgets/base",
            "_view_module_version": "1.2.0",
            "_view_name": "LayoutView",
            "align_content": null,
            "align_items": null,
            "align_self": null,
            "border": null,
            "bottom": null,
            "display": null,
            "flex": null,
            "flex_flow": null,
            "grid_area": null,
            "grid_auto_columns": null,
            "grid_auto_flow": null,
            "grid_auto_rows": null,
            "grid_column": null,
            "grid_gap": null,
            "grid_row": null,
            "grid_template_areas": null,
            "grid_template_columns": null,
            "grid_template_rows": null,
            "height": null,
            "justify_content": null,
            "justify_items": null,
            "left": null,
            "margin": null,
            "max_height": null,
            "max_width": null,
            "min_height": null,
            "min_width": null,
            "object_fit": null,
            "object_position": null,
            "order": null,
            "overflow": null,
            "overflow_x": null,
            "overflow_y": null,
            "padding": null,
            "right": null,
            "top": null,
            "visibility": null,
            "width": null
          }
        },
        "3d613df993da414d9c227ae1e4746ca6": {
          "model_module": "@jupyter-widgets/controls",
          "model_name": "DescriptionStyleModel",
          "model_module_version": "1.5.0",
          "state": {
            "_model_module": "@jupyter-widgets/controls",
            "_model_module_version": "1.5.0",
            "_model_name": "DescriptionStyleModel",
            "_view_count": null,
            "_view_module": "@jupyter-widgets/base",
            "_view_module_version": "1.2.0",
            "_view_name": "StyleView",
            "description_width": ""
          }
        },
        "1f338f5c83c34949b974ba3801acc6b4": {
          "model_module": "@jupyter-widgets/controls",
          "model_name": "HBoxModel",
          "model_module_version": "1.5.0",
          "state": {
            "_dom_classes": [],
            "_model_module": "@jupyter-widgets/controls",
            "_model_module_version": "1.5.0",
            "_model_name": "HBoxModel",
            "_view_count": null,
            "_view_module": "@jupyter-widgets/controls",
            "_view_module_version": "1.5.0",
            "_view_name": "HBoxView",
            "box_style": "",
            "children": [
              "IPY_MODEL_4b9d992635e44da8a12b76bfa66d6710",
              "IPY_MODEL_81b1f5e2fc0e45a9bbb52224cdc35aff",
              "IPY_MODEL_cd9435a9fca94f029a146453c53ceb01"
            ],
            "layout": "IPY_MODEL_05ed6aae5184434e97ef2f799f601dd6"
          }
        },
        "4b9d992635e44da8a12b76bfa66d6710": {
          "model_module": "@jupyter-widgets/controls",
          "model_name": "HTMLModel",
          "model_module_version": "1.5.0",
          "state": {
            "_dom_classes": [],
            "_model_module": "@jupyter-widgets/controls",
            "_model_module_version": "1.5.0",
            "_model_name": "HTMLModel",
            "_view_count": null,
            "_view_module": "@jupyter-widgets/controls",
            "_view_module_version": "1.5.0",
            "_view_name": "HTMLView",
            "description": "",
            "description_tooltip": null,
            "layout": "IPY_MODEL_6a946cf77b1442a59882d42a9877fb3e",
            "placeholder": "​",
            "style": "IPY_MODEL_ca633378366e41d196701e55b50efca2",
            "value": "Map: 100%"
          }
        },
        "81b1f5e2fc0e45a9bbb52224cdc35aff": {
          "model_module": "@jupyter-widgets/controls",
          "model_name": "FloatProgressModel",
          "model_module_version": "1.5.0",
          "state": {
            "_dom_classes": [],
            "_model_module": "@jupyter-widgets/controls",
            "_model_module_version": "1.5.0",
            "_model_name": "FloatProgressModel",
            "_view_count": null,
            "_view_module": "@jupyter-widgets/controls",
            "_view_module_version": "1.5.0",
            "_view_name": "ProgressView",
            "bar_style": "success",
            "description": "",
            "description_tooltip": null,
            "layout": "IPY_MODEL_2a0fbf445bf04a7880e46c26fa8ca14a",
            "max": 500,
            "min": 0,
            "orientation": "horizontal",
            "style": "IPY_MODEL_384596c38178464ab00184e6f44ec20e",
            "value": 500
          }
        },
        "cd9435a9fca94f029a146453c53ceb01": {
          "model_module": "@jupyter-widgets/controls",
          "model_name": "HTMLModel",
          "model_module_version": "1.5.0",
          "state": {
            "_dom_classes": [],
            "_model_module": "@jupyter-widgets/controls",
            "_model_module_version": "1.5.0",
            "_model_name": "HTMLModel",
            "_view_count": null,
            "_view_module": "@jupyter-widgets/controls",
            "_view_module_version": "1.5.0",
            "_view_name": "HTMLView",
            "description": "",
            "description_tooltip": null,
            "layout": "IPY_MODEL_b2fd034025924fe49054089cebfad994",
            "placeholder": "​",
            "style": "IPY_MODEL_3d39fe8035f3479aabc1ba57906ad6b4",
            "value": " 500/500 [00:13&lt;00:00, 33.16 examples/s]"
          }
        },
        "05ed6aae5184434e97ef2f799f601dd6": {
          "model_module": "@jupyter-widgets/base",
          "model_name": "LayoutModel",
          "model_module_version": "1.2.0",
          "state": {
            "_model_module": "@jupyter-widgets/base",
            "_model_module_version": "1.2.0",
            "_model_name": "LayoutModel",
            "_view_count": null,
            "_view_module": "@jupyter-widgets/base",
            "_view_module_version": "1.2.0",
            "_view_name": "LayoutView",
            "align_content": null,
            "align_items": null,
            "align_self": null,
            "border": null,
            "bottom": null,
            "display": null,
            "flex": null,
            "flex_flow": null,
            "grid_area": null,
            "grid_auto_columns": null,
            "grid_auto_flow": null,
            "grid_auto_rows": null,
            "grid_column": null,
            "grid_gap": null,
            "grid_row": null,
            "grid_template_areas": null,
            "grid_template_columns": null,
            "grid_template_rows": null,
            "height": null,
            "justify_content": null,
            "justify_items": null,
            "left": null,
            "margin": null,
            "max_height": null,
            "max_width": null,
            "min_height": null,
            "min_width": null,
            "object_fit": null,
            "object_position": null,
            "order": null,
            "overflow": null,
            "overflow_x": null,
            "overflow_y": null,
            "padding": null,
            "right": null,
            "top": null,
            "visibility": null,
            "width": null
          }
        },
        "6a946cf77b1442a59882d42a9877fb3e": {
          "model_module": "@jupyter-widgets/base",
          "model_name": "LayoutModel",
          "model_module_version": "1.2.0",
          "state": {
            "_model_module": "@jupyter-widgets/base",
            "_model_module_version": "1.2.0",
            "_model_name": "LayoutModel",
            "_view_count": null,
            "_view_module": "@jupyter-widgets/base",
            "_view_module_version": "1.2.0",
            "_view_name": "LayoutView",
            "align_content": null,
            "align_items": null,
            "align_self": null,
            "border": null,
            "bottom": null,
            "display": null,
            "flex": null,
            "flex_flow": null,
            "grid_area": null,
            "grid_auto_columns": null,
            "grid_auto_flow": null,
            "grid_auto_rows": null,
            "grid_column": null,
            "grid_gap": null,
            "grid_row": null,
            "grid_template_areas": null,
            "grid_template_columns": null,
            "grid_template_rows": null,
            "height": null,
            "justify_content": null,
            "justify_items": null,
            "left": null,
            "margin": null,
            "max_height": null,
            "max_width": null,
            "min_height": null,
            "min_width": null,
            "object_fit": null,
            "object_position": null,
            "order": null,
            "overflow": null,
            "overflow_x": null,
            "overflow_y": null,
            "padding": null,
            "right": null,
            "top": null,
            "visibility": null,
            "width": null
          }
        },
        "ca633378366e41d196701e55b50efca2": {
          "model_module": "@jupyter-widgets/controls",
          "model_name": "DescriptionStyleModel",
          "model_module_version": "1.5.0",
          "state": {
            "_model_module": "@jupyter-widgets/controls",
            "_model_module_version": "1.5.0",
            "_model_name": "DescriptionStyleModel",
            "_view_count": null,
            "_view_module": "@jupyter-widgets/base",
            "_view_module_version": "1.2.0",
            "_view_name": "StyleView",
            "description_width": ""
          }
        },
        "2a0fbf445bf04a7880e46c26fa8ca14a": {
          "model_module": "@jupyter-widgets/base",
          "model_name": "LayoutModel",
          "model_module_version": "1.2.0",
          "state": {
            "_model_module": "@jupyter-widgets/base",
            "_model_module_version": "1.2.0",
            "_model_name": "LayoutModel",
            "_view_count": null,
            "_view_module": "@jupyter-widgets/base",
            "_view_module_version": "1.2.0",
            "_view_name": "LayoutView",
            "align_content": null,
            "align_items": null,
            "align_self": null,
            "border": null,
            "bottom": null,
            "display": null,
            "flex": null,
            "flex_flow": null,
            "grid_area": null,
            "grid_auto_columns": null,
            "grid_auto_flow": null,
            "grid_auto_rows": null,
            "grid_column": null,
            "grid_gap": null,
            "grid_row": null,
            "grid_template_areas": null,
            "grid_template_columns": null,
            "grid_template_rows": null,
            "height": null,
            "justify_content": null,
            "justify_items": null,
            "left": null,
            "margin": null,
            "max_height": null,
            "max_width": null,
            "min_height": null,
            "min_width": null,
            "object_fit": null,
            "object_position": null,
            "order": null,
            "overflow": null,
            "overflow_x": null,
            "overflow_y": null,
            "padding": null,
            "right": null,
            "top": null,
            "visibility": null,
            "width": null
          }
        },
        "384596c38178464ab00184e6f44ec20e": {
          "model_module": "@jupyter-widgets/controls",
          "model_name": "ProgressStyleModel",
          "model_module_version": "1.5.0",
          "state": {
            "_model_module": "@jupyter-widgets/controls",
            "_model_module_version": "1.5.0",
            "_model_name": "ProgressStyleModel",
            "_view_count": null,
            "_view_module": "@jupyter-widgets/base",
            "_view_module_version": "1.2.0",
            "_view_name": "StyleView",
            "bar_color": null,
            "description_width": ""
          }
        },
        "b2fd034025924fe49054089cebfad994": {
          "model_module": "@jupyter-widgets/base",
          "model_name": "LayoutModel",
          "model_module_version": "1.2.0",
          "state": {
            "_model_module": "@jupyter-widgets/base",
            "_model_module_version": "1.2.0",
            "_model_name": "LayoutModel",
            "_view_count": null,
            "_view_module": "@jupyter-widgets/base",
            "_view_module_version": "1.2.0",
            "_view_name": "LayoutView",
            "align_content": null,
            "align_items": null,
            "align_self": null,
            "border": null,
            "bottom": null,
            "display": null,
            "flex": null,
            "flex_flow": null,
            "grid_area": null,
            "grid_auto_columns": null,
            "grid_auto_flow": null,
            "grid_auto_rows": null,
            "grid_column": null,
            "grid_gap": null,
            "grid_row": null,
            "grid_template_areas": null,
            "grid_template_columns": null,
            "grid_template_rows": null,
            "height": null,
            "justify_content": null,
            "justify_items": null,
            "left": null,
            "margin": null,
            "max_height": null,
            "max_width": null,
            "min_height": null,
            "min_width": null,
            "object_fit": null,
            "object_position": null,
            "order": null,
            "overflow": null,
            "overflow_x": null,
            "overflow_y": null,
            "padding": null,
            "right": null,
            "top": null,
            "visibility": null,
            "width": null
          }
        },
        "3d39fe8035f3479aabc1ba57906ad6b4": {
          "model_module": "@jupyter-widgets/controls",
          "model_name": "DescriptionStyleModel",
          "model_module_version": "1.5.0",
          "state": {
            "_model_module": "@jupyter-widgets/controls",
            "_model_module_version": "1.5.0",
            "_model_name": "DescriptionStyleModel",
            "_view_count": null,
            "_view_module": "@jupyter-widgets/base",
            "_view_module_version": "1.2.0",
            "_view_name": "StyleView",
            "description_width": ""
          }
        },
        "73072857d06f4e55b65519aee6e18e62": {
          "model_module": "@jupyter-widgets/controls",
          "model_name": "HBoxModel",
          "model_module_version": "1.5.0",
          "state": {
            "_dom_classes": [],
            "_model_module": "@jupyter-widgets/controls",
            "_model_module_version": "1.5.0",
            "_model_name": "HBoxModel",
            "_view_count": null,
            "_view_module": "@jupyter-widgets/controls",
            "_view_module_version": "1.5.0",
            "_view_name": "HBoxView",
            "box_style": "",
            "children": [
              "IPY_MODEL_cdba0ef4850941efae7812fbb805dcef",
              "IPY_MODEL_3c3d1f7fb5084342b39b4de1d4acde24",
              "IPY_MODEL_54d2f83cbfad47fb853e6e7577513a11"
            ],
            "layout": "IPY_MODEL_c78e356c28514fe2ad38f778dc637c8a"
          }
        },
        "cdba0ef4850941efae7812fbb805dcef": {
          "model_module": "@jupyter-widgets/controls",
          "model_name": "HTMLModel",
          "model_module_version": "1.5.0",
          "state": {
            "_dom_classes": [],
            "_model_module": "@jupyter-widgets/controls",
            "_model_module_version": "1.5.0",
            "_model_name": "HTMLModel",
            "_view_count": null,
            "_view_module": "@jupyter-widgets/controls",
            "_view_module_version": "1.5.0",
            "_view_name": "HTMLView",
            "description": "",
            "description_tooltip": null,
            "layout": "IPY_MODEL_67022b0470d5480fbd10bbc0024e2c5c",
            "placeholder": "​",
            "style": "IPY_MODEL_2fb3335f18b848e1bcbd4b4b6f09fe3b",
            "value": "Map: 100%"
          }
        },
        "3c3d1f7fb5084342b39b4de1d4acde24": {
          "model_module": "@jupyter-widgets/controls",
          "model_name": "FloatProgressModel",
          "model_module_version": "1.5.0",
          "state": {
            "_dom_classes": [],
            "_model_module": "@jupyter-widgets/controls",
            "_model_module_version": "1.5.0",
            "_model_name": "FloatProgressModel",
            "_view_count": null,
            "_view_module": "@jupyter-widgets/controls",
            "_view_module_version": "1.5.0",
            "_view_name": "ProgressView",
            "bar_style": "success",
            "description": "",
            "description_tooltip": null,
            "layout": "IPY_MODEL_4d5b5fe967484b29a88d2a95b5a7bd9d",
            "max": 500,
            "min": 0,
            "orientation": "horizontal",
            "style": "IPY_MODEL_d7a92bc5f79e481d8c09205403abc1da",
            "value": 500
          }
        },
        "54d2f83cbfad47fb853e6e7577513a11": {
          "model_module": "@jupyter-widgets/controls",
          "model_name": "HTMLModel",
          "model_module_version": "1.5.0",
          "state": {
            "_dom_classes": [],
            "_model_module": "@jupyter-widgets/controls",
            "_model_module_version": "1.5.0",
            "_model_name": "HTMLModel",
            "_view_count": null,
            "_view_module": "@jupyter-widgets/controls",
            "_view_module_version": "1.5.0",
            "_view_name": "HTMLView",
            "description": "",
            "description_tooltip": null,
            "layout": "IPY_MODEL_f61fc27572af4e6bb0fcc070f8a95749",
            "placeholder": "​",
            "style": "IPY_MODEL_1c7c324fd73b4aad92530d37a3089f33",
            "value": " 500/500 [00:14&lt;00:00, 35.45 examples/s]"
          }
        },
        "c78e356c28514fe2ad38f778dc637c8a": {
          "model_module": "@jupyter-widgets/base",
          "model_name": "LayoutModel",
          "model_module_version": "1.2.0",
          "state": {
            "_model_module": "@jupyter-widgets/base",
            "_model_module_version": "1.2.0",
            "_model_name": "LayoutModel",
            "_view_count": null,
            "_view_module": "@jupyter-widgets/base",
            "_view_module_version": "1.2.0",
            "_view_name": "LayoutView",
            "align_content": null,
            "align_items": null,
            "align_self": null,
            "border": null,
            "bottom": null,
            "display": null,
            "flex": null,
            "flex_flow": null,
            "grid_area": null,
            "grid_auto_columns": null,
            "grid_auto_flow": null,
            "grid_auto_rows": null,
            "grid_column": null,
            "grid_gap": null,
            "grid_row": null,
            "grid_template_areas": null,
            "grid_template_columns": null,
            "grid_template_rows": null,
            "height": null,
            "justify_content": null,
            "justify_items": null,
            "left": null,
            "margin": null,
            "max_height": null,
            "max_width": null,
            "min_height": null,
            "min_width": null,
            "object_fit": null,
            "object_position": null,
            "order": null,
            "overflow": null,
            "overflow_x": null,
            "overflow_y": null,
            "padding": null,
            "right": null,
            "top": null,
            "visibility": null,
            "width": null
          }
        },
        "67022b0470d5480fbd10bbc0024e2c5c": {
          "model_module": "@jupyter-widgets/base",
          "model_name": "LayoutModel",
          "model_module_version": "1.2.0",
          "state": {
            "_model_module": "@jupyter-widgets/base",
            "_model_module_version": "1.2.0",
            "_model_name": "LayoutModel",
            "_view_count": null,
            "_view_module": "@jupyter-widgets/base",
            "_view_module_version": "1.2.0",
            "_view_name": "LayoutView",
            "align_content": null,
            "align_items": null,
            "align_self": null,
            "border": null,
            "bottom": null,
            "display": null,
            "flex": null,
            "flex_flow": null,
            "grid_area": null,
            "grid_auto_columns": null,
            "grid_auto_flow": null,
            "grid_auto_rows": null,
            "grid_column": null,
            "grid_gap": null,
            "grid_row": null,
            "grid_template_areas": null,
            "grid_template_columns": null,
            "grid_template_rows": null,
            "height": null,
            "justify_content": null,
            "justify_items": null,
            "left": null,
            "margin": null,
            "max_height": null,
            "max_width": null,
            "min_height": null,
            "min_width": null,
            "object_fit": null,
            "object_position": null,
            "order": null,
            "overflow": null,
            "overflow_x": null,
            "overflow_y": null,
            "padding": null,
            "right": null,
            "top": null,
            "visibility": null,
            "width": null
          }
        },
        "2fb3335f18b848e1bcbd4b4b6f09fe3b": {
          "model_module": "@jupyter-widgets/controls",
          "model_name": "DescriptionStyleModel",
          "model_module_version": "1.5.0",
          "state": {
            "_model_module": "@jupyter-widgets/controls",
            "_model_module_version": "1.5.0",
            "_model_name": "DescriptionStyleModel",
            "_view_count": null,
            "_view_module": "@jupyter-widgets/base",
            "_view_module_version": "1.2.0",
            "_view_name": "StyleView",
            "description_width": ""
          }
        },
        "4d5b5fe967484b29a88d2a95b5a7bd9d": {
          "model_module": "@jupyter-widgets/base",
          "model_name": "LayoutModel",
          "model_module_version": "1.2.0",
          "state": {
            "_model_module": "@jupyter-widgets/base",
            "_model_module_version": "1.2.0",
            "_model_name": "LayoutModel",
            "_view_count": null,
            "_view_module": "@jupyter-widgets/base",
            "_view_module_version": "1.2.0",
            "_view_name": "LayoutView",
            "align_content": null,
            "align_items": null,
            "align_self": null,
            "border": null,
            "bottom": null,
            "display": null,
            "flex": null,
            "flex_flow": null,
            "grid_area": null,
            "grid_auto_columns": null,
            "grid_auto_flow": null,
            "grid_auto_rows": null,
            "grid_column": null,
            "grid_gap": null,
            "grid_row": null,
            "grid_template_areas": null,
            "grid_template_columns": null,
            "grid_template_rows": null,
            "height": null,
            "justify_content": null,
            "justify_items": null,
            "left": null,
            "margin": null,
            "max_height": null,
            "max_width": null,
            "min_height": null,
            "min_width": null,
            "object_fit": null,
            "object_position": null,
            "order": null,
            "overflow": null,
            "overflow_x": null,
            "overflow_y": null,
            "padding": null,
            "right": null,
            "top": null,
            "visibility": null,
            "width": null
          }
        },
        "d7a92bc5f79e481d8c09205403abc1da": {
          "model_module": "@jupyter-widgets/controls",
          "model_name": "ProgressStyleModel",
          "model_module_version": "1.5.0",
          "state": {
            "_model_module": "@jupyter-widgets/controls",
            "_model_module_version": "1.5.0",
            "_model_name": "ProgressStyleModel",
            "_view_count": null,
            "_view_module": "@jupyter-widgets/base",
            "_view_module_version": "1.2.0",
            "_view_name": "StyleView",
            "bar_color": null,
            "description_width": ""
          }
        },
        "f61fc27572af4e6bb0fcc070f8a95749": {
          "model_module": "@jupyter-widgets/base",
          "model_name": "LayoutModel",
          "model_module_version": "1.2.0",
          "state": {
            "_model_module": "@jupyter-widgets/base",
            "_model_module_version": "1.2.0",
            "_model_name": "LayoutModel",
            "_view_count": null,
            "_view_module": "@jupyter-widgets/base",
            "_view_module_version": "1.2.0",
            "_view_name": "LayoutView",
            "align_content": null,
            "align_items": null,
            "align_self": null,
            "border": null,
            "bottom": null,
            "display": null,
            "flex": null,
            "flex_flow": null,
            "grid_area": null,
            "grid_auto_columns": null,
            "grid_auto_flow": null,
            "grid_auto_rows": null,
            "grid_column": null,
            "grid_gap": null,
            "grid_row": null,
            "grid_template_areas": null,
            "grid_template_columns": null,
            "grid_template_rows": null,
            "height": null,
            "justify_content": null,
            "justify_items": null,
            "left": null,
            "margin": null,
            "max_height": null,
            "max_width": null,
            "min_height": null,
            "min_width": null,
            "object_fit": null,
            "object_position": null,
            "order": null,
            "overflow": null,
            "overflow_x": null,
            "overflow_y": null,
            "padding": null,
            "right": null,
            "top": null,
            "visibility": null,
            "width": null
          }
        },
        "1c7c324fd73b4aad92530d37a3089f33": {
          "model_module": "@jupyter-widgets/controls",
          "model_name": "DescriptionStyleModel",
          "model_module_version": "1.5.0",
          "state": {
            "_model_module": "@jupyter-widgets/controls",
            "_model_module_version": "1.5.0",
            "_model_name": "DescriptionStyleModel",
            "_view_count": null,
            "_view_module": "@jupyter-widgets/base",
            "_view_module_version": "1.2.0",
            "_view_name": "StyleView",
            "description_width": ""
          }
        }
      }
    }
  },
  "nbformat": 4,
  "nbformat_minor": 5
}